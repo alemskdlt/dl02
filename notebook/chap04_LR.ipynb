{
  "nbformat": 4,
  "nbformat_minor": 0,
  "metadata": {
    "colab": {
      "provenance": [],
      "authorship_tag": "ABX9TyNuFS5eRLLWQ5vhDBbwCMpm",
      "include_colab_link": true
    },
    "kernelspec": {
      "name": "python3",
      "display_name": "Python 3"
    },
    "language_info": {
      "name": "python"
    }
  },
  "cells": [
    {
      "cell_type": "markdown",
      "metadata": {
        "id": "view-in-github",
        "colab_type": "text"
      },
      "source": [
        "<a href=\"https://colab.research.google.com/github/alemskdlt/dl02/blob/main/notebook/chap04_LR.ipynb\" target=\"_parent\"><img src=\"https://colab.research.google.com/assets/colab-badge.svg\" alt=\"Open In Colab\"/></a>"
      ]
    },
    {
      "cell_type": "markdown",
      "source": [
        "## 선형 회귀\n",
        "- numpy 이용\n",
        "- sklearn 이용\n"
      ],
      "metadata": {
        "id": "VR7FcaVNEzcw"
      }
    },
    {
      "cell_type": "code",
      "execution_count": null,
      "metadata": {
        "colab": {
          "base_uri": "https://localhost:8080/"
        },
        "id": "QZIe-FBvEyNc",
        "outputId": "ef6ba298-f044-4cc9-9d62-4f91635b817d"
      },
      "outputs": [
        {
          "output_type": "stream",
          "name": "stdout",
          "text": [
            "1.2532418085611319 2.745502230882486\n"
          ]
        }
      ],
      "source": [
        "# numpy 이용 선형회귀\n",
        "import numpy as np\n",
        "import matplotlib.pyplot as plt\n",
        "\n",
        "X = np.array([0.0, 1.0, 2.0])\n",
        "y = np.array([3.0, 3.5, 5.5])\n",
        "\n",
        "# 파라미터 초기화\n",
        "w = 0       # 기울기\n",
        "b = 0       # 절편\n",
        "\n",
        "lrate = 0.01  # 학습률\n",
        "epochs = 1000  # 반복 횟수\n",
        "\n",
        "n = float(len(X)) # 입력 데이터의 개수\n",
        "\n",
        "# 경사 하강법\n",
        "for i in range(epochs): \n",
        "    y_pred = w*X + b  \t\t\t# 선형 회귀 예측값\n",
        "    dw = (2/n) * sum(X * (y_pred-y)) \t# 넘파이 배열간의 산술 계산은 요소별로 적용\n",
        "    db = (2/n) * sum(y_pred-y)  \t# sum()은 모든 요소들의 합을 계산하는 내장 함수\n",
        "    w = w - lrate * dw  \t\t# 기울기 수정\n",
        "    b = b - lrate * db  \t\t# 절편 수정\n",
        "    \n",
        "# 기울기와 절편을 출력한다. \n",
        "print (w, b)"
      ]
    },
    {
      "cell_type": "code",
      "source": [
        "# 예측값을 만든다.\n",
        "y_pred = w*X + b\n",
        "\n",
        "# 입력 데이터를 그래프 상에 찍는다. \n",
        "plt.scatter(X, y) \n",
        "\n",
        "# 예측값은 선그래프로 그린다. \n",
        "plt.plot([min(X), max(X)], [min(y_pred), max(y_pred)], color='red')\n",
        "plt.show()"
      ],
      "metadata": {
        "colab": {
          "base_uri": "https://localhost:8080/",
          "height": 265
        },
        "id": "rGAu1_CXFW4J",
        "outputId": "6ba54a9c-f9d1-4a66-9a2f-d53262858a05"
      },
      "execution_count": null,
      "outputs": [
        {
          "output_type": "display_data",
          "data": {
            "text/plain": [
              "<Figure size 432x288 with 1 Axes>"
            ],
            "image/png": "[encoded data removed]"
          },
          "metadata": {
            "needs_background": "light"
          }
        }
      ]
    },
    {
      "cell_type": "markdown",
      "source": [
        "### sklearn \n",
        "- LinearRegression"
      ],
      "metadata": {
        "id": "i0fuGDVLHR7C"
      }
    },
    {
      "cell_type": "code",
      "source": [
        "import matplotlib.pylab as plt\n",
        "from sklearn import linear_model\n",
        "\n",
        "# 선형 회귀 모델을 생성한다. \n",
        "reg = linear_model.LinearRegression()\n",
        "\n",
        "# 데이터는 파이썬의 리스트로 만들어도 되고 아니면 넘파이의 배열로 만들어도 됨\n",
        "X = [[0], [1], [2]]\t\t# 반드시 2차원으로 만들어야 함(2차원 리스트 또는 2차원 배열)\n",
        "y = [3, 3.5, 5.5]\t\t# y = x + 3\n",
        "\n",
        "# 학습을 시킨다. \n",
        "reg.fit(X, y)\t\n",
        "\n",
        "print(reg.coef_)\t\t# 직선의 기울기\n",
        "print(reg.intercept_) \t# 직선의 y-절편 \n",
        "print(reg.score(X, y))  # R2 accuracy\n",
        "\n",
        "print(reg.predict([[5]]))"
      ],
      "metadata": {
        "colab": {
          "base_uri": "https://localhost:8080/"
        },
        "id": "f9gVr7y3HQgU",
        "outputId": "c724f635-5d3e-4929-9b73-ebcdbd86f9f1"
      },
      "execution_count": null,
      "outputs": [
        {
          "output_type": "stream",
          "name": "stdout",
          "text": [
            "[1.25]\n",
            "2.7500000000000004\n",
            "0.8928571428571429\n",
            "[9.]\n"
          ]
        }
      ]
    },
    {
      "cell_type": "code",
      "source": [
        "# 학습 데이터를 입력으로 하여 예측값을 계산한다.\n",
        "y_pred = reg.predict(X)\n",
        "from sklearn.metrics import r2_score\n",
        "print(r2_score(y, y_pred))\n",
        "\n",
        "# 학습 데이터와 y 값을 산포도로 그린다. \n",
        "plt.scatter(X, y, color='black')\n",
        "# 학습 데이터와 예측값으로 선그래프로 그린다. \n",
        "# 계산된 기울기와 y 절편을 가지는 직선이 그려진다. \n",
        "plt.plot(X, y_pred, color='blue', linewidth=3)\t\t\n",
        "plt.show()\n",
        "\n",
        "################  Refs   #####################\n",
        "# https://losskatsu.github.io/machine-learning/sklearn/#%EC%9D%98%EC%82%AC%EA%B2%B0%EC%A0%95-%EB%82%98%EB%AC%B4\n",
        "# https://wotres.tistory.com/entry/%EB%B6%84%EB%A5%98-%EC%84%B1%EB%8A%A5-%EC%B8%A1%EC%A0%95%ED%95%98%EB%8A%94%EB%B2%95-Accuracy-Precision-Recall-F1-score-ROC-AUC-in-python\n",
        "##############################################"
      ],
      "metadata": {
        "colab": {
          "base_uri": "https://localhost:8080/",
          "height": 283
        },
        "id": "o-hfiGa7Hi00",
        "outputId": "8df783de-9a6a-4922-9edf-600ed0b4d473"
      },
      "execution_count": null,
      "outputs": [
        {
          "output_type": "stream",
          "name": "stdout",
          "text": [
            "0.8928571428571429\n"
          ]
        },
        {
          "output_type": "display_data",
          "data": {
            "text/plain": [
              "<Figure size 432x288 with 1 Axes>"
            ],
            "image/png": "[encoded data removed]"
          },
          "metadata": {
            "needs_background": "light"
          }
        }
      ]
    },
    {
      "cell_type": "markdown",
      "source": [
        "### 선형 회귀 \n",
        "- 키와 몸무게 관계 모델"
      ],
      "metadata": {
        "id": "asUin2r_Lc3r"
      }
    },
    {
      "cell_type": "code",
      "source": [
        "import matplotlib.pylab as plt\n",
        "from sklearn import linear_model\n",
        "\n",
        "reg = linear_model.LinearRegression()\n",
        "\n",
        "X = [[174], [152], [138], [128], [186]]\t\t\n",
        "y = [71, 55, 46, 38, 88]\t\n",
        "\n",
        "reg.fit(X, y)\t\t\t# 학습\n",
        "# 평가\n",
        "print(reg.score(X, y))\n",
        "# 에측\n",
        "print(reg.predict([[165]]))"
      ],
      "metadata": {
        "colab": {
          "base_uri": "https://localhost:8080/"
        },
        "id": "ZKcgjJ19LmN6",
        "outputId": "4a4a4ce3-e4e2-4a29-bfe8-287cae332365"
      },
      "execution_count": null,
      "outputs": [
        {
          "output_type": "stream",
          "name": "stdout",
          "text": [
            "0.9812769231994423\n",
            "[67.30998637]\n"
          ]
        }
      ]
    },
    {
      "cell_type": "code",
      "source": [
        "# 학습 데이터를 입력으로 하여 예측값을 계산한다.\n",
        "y_pred = reg.predict(X)\n",
        "\n",
        "# 학습 데이터와 y 값을 산포도로 그린다. \n",
        "plt.scatter(X, y, color='black')\n",
        "# 학습 데이터와 예측값으로 선그래프로 그린다. \n",
        "# 계산된 기울기와 y 절편을 가지는 직선이 그려진다. \n",
        "plt.plot(X, y_pred, color='blue', linewidth=3)\t\t\n",
        "plt.show()"
      ],
      "metadata": {
        "colab": {
          "base_uri": "https://localhost:8080/",
          "height": 267
        },
        "id": "OwBgW3dmLyjK",
        "outputId": "81aeaab8-e2e1-45b5-d1bc-86bde33e10f8"
      },
      "execution_count": null,
      "outputs": [
        {
          "output_type": "display_data",
          "data": {
            "text/plain": [
              "<Figure size 432x288 with 1 Axes>"
            ],
            "image/png": "[encoded data removed]"
          },
          "metadata": {
            "needs_background": "light"
          }
        }
      ]
    },
    {
      "cell_type": "markdown",
      "source": [
        "### 당뇨병 데이터의 선형 회귀 모델"
      ],
      "metadata": {
        "id": "v56kt4TDN6yb"
      }
    },
    {
      "cell_type": "code",
      "source": [
        "import matplotlib.pylab as plt\n",
        "import numpy as np\n",
        "# from sklearn.linear_model import LinearRegression\n",
        "from sklearn import datasets, linear_model\n",
        "\n",
        "# 당뇨병 데이터 세트를 적재한다. \n",
        "diabetes = datasets.load_diabetes()\n",
        "print(str(diabetes))"
      ],
      "metadata": {
        "colab": {
          "base_uri": "https://localhost:8080/"
        },
        "id": "AbyUh9hGOZtd",
        "outputId": "f8249eec-8e11-440f-f0ec-73583162dfe6"
      },
      "execution_count": 30,
      "outputs": [
        {
          "output_type": "stream",
          "name": "stdout",
          "text": [
            "{'data': array([[ 0.03807591,  0.05068012,  0.06169621, ..., -0.00259226,\n",
            "         0.01990749, -0.01764613],\n",
            "       [-0.00188202, -0.04464164, -0.05147406, ..., -0.03949338,\n",
            "        -0.06833155, -0.09220405],\n",
            "       [ 0.08529891,  0.05068012,  0.04445121, ..., -0.00259226,\n",
            "         0.00286131, -0.02593034],\n",
            "       ...,\n",
            "       [ 0.04170844,  0.05068012, -0.01590626, ..., -0.01107952,\n",
            "        -0.04688253,  0.01549073],\n",
            "       [-0.04547248, -0.04464164,  0.03906215, ...,  0.02655962,\n",
            "         0.04452873, -0.02593034],\n",
            "       [-0.04547248, -0.04464164, -0.0730303 , ..., -0.03949338,\n",
            "        -0.00422151,  0.00306441]]), 'target': array([151.,  75., 141., 206., 135.,  97., 138.,  63., 110., 310., 101.,\n",
            "        69., 179., 185., 118., 171., 166., 144.,  97., 168.,  68.,  49.,\n",
            "        68., 245., 184., 202., 137.,  85., 131., 283., 129.,  59., 341.,\n",
            "        87.,  65., 102., 265., 276., 252.,  90., 100.,  55.,  61.,  92.,\n",
            "       259.,  53., 190., 142.,  75., 142., 155., 225.,  59., 104., 182.,\n",
            "       128.,  52.,  37., 170., 170.,  61., 144.,  52., 128.,  71., 163.,\n",
            "       150.,  97., 160., 178.,  48., 270., 202., 111.,  85.,  42., 170.,\n",
            "       200., 252., 113., 143.,  51.,  52., 210.,  65., 141.,  55., 134.,\n",
            "        42., 111.,  98., 164.,  48.,  96.,  90., 162., 150., 279.,  92.,\n",
            "        83., 128., 102., 302., 198.,  95.,  53., 134., 144., 232.,  81.,\n",
            "       104.,  59., 246., 297., 258., 229., 275., 281., 179., 200., 200.,\n",
            "       173., 180.,  84., 121., 161.,  99., 109., 115., 268., 274., 158.,\n",
            "       107.,  83., 103., 272.,  85., 280., 336., 281., 118., 317., 235.,\n",
            "        60., 174., 259., 178., 128.,  96., 126., 288.,  88., 292.,  71.,\n",
            "       197., 186.,  25.,  84.,  96., 195.,  53., 217., 172., 131., 214.,\n",
            "        59.,  70., 220., 268., 152.,  47.,  74., 295., 101., 151., 127.,\n",
            "       237., 225.,  81., 151., 107.,  64., 138., 185., 265., 101., 137.,\n",
            "       143., 141.,  79., 292., 178.,  91., 116.,  86., 122.,  72., 129.,\n",
            "       142.,  90., 158.,  39., 196., 222., 277.,  99., 196., 202., 155.,\n",
            "        77., 191.,  70.,  73.,  49.,  65., 263., 248., 296., 214., 185.,\n",
            "        78.,  93., 252., 150.,  77., 208.,  77., 108., 160.,  53., 220.,\n",
            "       154., 259.,  90., 246., 124.,  67.,  72., 257., 262., 275., 177.,\n",
            "        71.,  47., 187., 125.,  78.,  51., 258., 215., 303., 243.,  91.,\n",
            "       150., 310., 153., 346.,  63.,  89.,  50.,  39., 103., 308., 116.,\n",
            "       145.,  74.,  45., 115., 264.,  87., 202., 127., 182., 241.,  66.,\n",
            "        94., 283.,  64., 102., 200., 265.,  94., 230., 181., 156., 233.,\n",
            "        60., 219.,  80.,  68., 332., 248.,  84., 200.,  55.,  85.,  89.,\n",
            "        31., 129.,  83., 275.,  65., 198., 236., 253., 124.,  44., 172.,\n",
            "       114., 142., 109., 180., 144., 163., 147.,  97., 220., 190., 109.,\n",
            "       191., 122., 230., 242., 248., 249., 192., 131., 237.,  78., 135.,\n",
            "       244., 199., 270., 164.,  72.,  96., 306.,  91., 214.,  95., 216.,\n",
            "       263., 178., 113., 200., 139., 139.,  88., 148.,  88., 243.,  71.,\n",
            "        77., 109., 272.,  60.,  54., 221.,  90., 311., 281., 182., 321.,\n",
            "        58., 262., 206., 233., 242., 123., 167.,  63., 197.,  71., 168.,\n",
            "       140., 217., 121., 235., 245.,  40.,  52., 104., 132.,  88.,  69.,\n",
            "       219.,  72., 201., 110.,  51., 277.,  63., 118.,  69., 273., 258.,\n",
            "        43., 198., 242., 232., 175.,  93., 168., 275., 293., 281.,  72.,\n",
            "       140., 189., 181., 209., 136., 261., 113., 131., 174., 257.,  55.,\n",
            "        84.,  42., 146., 212., 233.,  91., 111., 152., 120.,  67., 310.,\n",
            "        94., 183.,  66., 173.,  72.,  49.,  64.,  48., 178., 104., 132.,\n",
            "       220.,  57.]), 'frame': None, 'DESCR': '.. _diabetes_dataset:\\n\\nDiabetes dataset\\n----------------\\n\\nTen baseline variables, age, sex, body mass index, average blood\\npressure, and six blood serum measurements were obtained for each of n =\\n442 diabetes patients, as well as the response of interest, a\\nquantitative measure of disease progression one year after baseline.\\n\\n**Data Set Characteristics:**\\n\\n  :Number of Instances: 442\\n\\n  :Number of Attributes: First 10 columns are numeric predictive values\\n\\n  :Target: Column 11 is a quantitative measure of disease progression one year after baseline\\n\\n  :Attribute Information:\\n      - age     age in years\\n      - sex\\n      - bmi     body mass index\\n      - bp      average blood pressure\\n      - s1      tc, total serum cholesterol\\n      - s2      ldl, low-density lipoproteins\\n      - s3      hdl, high-density lipoproteins\\n      - s4      tch, total cholesterol / HDL\\n      - s5      ltg, possibly log of serum triglycerides level\\n      - s6      glu, blood sugar level\\n\\nNote: Each of these 10 feature variables have been mean centered and scaled by the standard deviation times the square root of `n_samples` (i.e. the sum of squares of each column totals 1).\\n\\nSource URL:\\nhttps://www4.stat.ncsu.edu/~boos/var.select/diabetes.html\\n\\nFor more information see:\\nBradley Efron, Trevor Hastie, Iain Johnstone and Robert Tibshirani (2004) \"Least Angle Regression,\" Annals of Statistics (with discussion), 407-499.\\n(https://web.stanford.edu/~hastie/Papers/LARS/LeastAngle_2002.pdf)\\n', 'feature_names': ['age', 'sex', 'bmi', 'bp', 's1', 's2', 's3', 's4', 's5', 's6'], 'data_filename': 'diabetes_data_raw.csv.gz', 'target_filename': 'diabetes_target.csv.gz', 'data_module': 'sklearn.datasets.data'}\n"
          ]
        }
      ]
    },
    {
      "cell_type": "code",
      "source": [
        "print(diabetes.keys())"
      ],
      "metadata": {
        "colab": {
          "base_uri": "https://localhost:8080/"
        },
        "id": "lBldxaXWPd--",
        "outputId": "f4ef38fd-efb9-4343-ec8e-0ef6d76f5a59"
      },
      "execution_count": 29,
      "outputs": [
        {
          "output_type": "stream",
          "name": "stdout",
          "text": [
            "dict_keys(['data', 'target', 'frame', 'DESCR', 'feature_names', 'data_filename', 'target_filename', 'data_module'])\n"
          ]
        }
      ]
    },
    {
      "cell_type": "code",
      "source": [
        "diabetes.feature_names"
      ],
      "metadata": {
        "colab": {
          "base_uri": "https://localhost:8080/"
        },
        "id": "Yy5gy1k7PcA2",
        "outputId": "300ce05f-efe1-41ce-ec30-6faf3c4823e3"
      },
      "execution_count": null,
      "outputs": [
        {
          "output_type": "execute_result",
          "data": {
            "text/plain": [
              "['age', 'sex', 'bmi', 'bp', 's1', 's2', 's3', 's4', 's5', 's6']"
            ]
          },
          "metadata": {},
          "execution_count": 15
        }
      ]
    },
    {
      "cell_type": "code",
      "source": [
        "print(str(diabetes.DESCR))"
      ],
      "metadata": {
        "colab": {
          "base_uri": "https://localhost:8080/"
        },
        "id": "Onoi7VT5PzQ2",
        "outputId": "9e0242c5-51ab-4b16-afc4-98655d3d3995"
      },
      "execution_count": 27,
      "outputs": [
        {
          "output_type": "stream",
          "name": "stdout",
          "text": [
            ".. _diabetes_dataset:\n",
            "\n",
            "Diabetes dataset\n",
            "----------------\n",
            "\n",
            "Ten baseline variables, age, sex, body mass index, average blood\n",
            "pressure, and six blood serum measurements were obtained for each of n =\n",
            "442 diabetes patients, as well as the response of interest, a\n",
            "quantitative measure of disease progression one year after baseline.\n",
            "\n",
            "**Data Set Characteristics:**\n",
            "\n",
            "  :Number of Instances: 442\n",
            "\n",
            "  :Number of Attributes: First 10 columns are numeric predictive values\n",
            "\n",
            "  :Target: Column 11 is a quantitative measure of disease progression one year after baseline\n",
            "\n",
            "  :Attribute Information:\n",
            "      - age     age in years\n",
            "      - sex\n",
            "      - bmi     body mass index\n",
            "      - bp      average blood pressure\n",
            "      - s1      tc, total serum cholesterol\n",
            "      - s2      ldl, low-density lipoproteins\n",
            "      - s3      hdl, high-density lipoproteins\n",
            "      - s4      tch, total cholesterol / HDL\n",
            "      - s5      ltg, possibly log of serum triglycerides level\n",
            "      - s6      glu, blood sugar level\n",
            "\n",
            "Note: Each of these 10 feature variables have been mean centered and scaled by the standard deviation times the square root of `n_samples` (i.e. the sum of squares of each column totals 1).\n",
            "\n",
            "Source URL:\n",
            "https://www4.stat.ncsu.edu/~boos/var.select/diabetes.html\n",
            "\n",
            "For more information see:\n",
            "Bradley Efron, Trevor Hastie, Iain Johnstone and Robert Tibshirani (2004) \"Least Angle Regression,\" Annals of Statistics (with discussion), 407-499.\n",
            "(https://web.stanford.edu/~hastie/Papers/LARS/LeastAngle_2002.pdf)\n",
            "\n"
          ]
        }
      ]
    },
    {
      "cell_type": "code",
      "source": [
        "##########################################\n",
        "diabetes_X, diabetes_y = datasets.load_diabetes(return_X_y=True)\n",
        "str(diabetes_X)\n",
        "str(diabetes_y)\n",
        "print(diabetes_X.data.shape, diabetes_y.data.shape)"
      ],
      "metadata": {
        "id": "Oiz2Q5JVOlX2",
        "colab": {
          "base_uri": "https://localhost:8080/"
        },
        "outputId": "b662f7fe-e167-4295-bf9a-a667fc5122ce"
      },
      "execution_count": 18,
      "outputs": [
        {
          "output_type": "stream",
          "name": "stdout",
          "text": [
            "(442, 10) (442,)\n"
          ]
        }
      ]
    },
    {
      "cell_type": "code",
      "source": [
        "str(diabetes_X)"
      ],
      "metadata": {
        "colab": {
          "base_uri": "https://localhost:8080/",
          "height": 54
        },
        "id": "TcZ0cqq5RKBP",
        "outputId": "e8d92af3-685d-4ad3-d26a-168371b53cfa"
      },
      "execution_count": 19,
      "outputs": [
        {
          "output_type": "execute_result",
          "data": {
            "text/plain": [
              "'[[ 0.03807591  0.05068012  0.06169621 ... -0.00259226  0.01990749\\n  -0.01764613]\\n [-0.00188202 -0.04464164 -0.05147406 ... -0.03949338 -0.06833155\\n  -0.09220405]\\n [ 0.08529891  0.05068012  0.04445121 ... -0.00259226  0.00286131\\n  -0.02593034]\\n ...\\n [ 0.04170844  0.05068012 -0.01590626 ... -0.01107952 -0.04688253\\n   0.01549073]\\n [-0.04547248 -0.04464164  0.03906215 ...  0.02655962  0.04452873\\n  -0.02593034]\\n [-0.04547248 -0.04464164 -0.0730303  ... -0.03949338 -0.00422151\\n   0.00306441]]'"
            ],
            "application/vnd.google.colaboratory.intrinsic+json": {
              "type": "string"
            }
          },
          "metadata": {},
          "execution_count": 19
        }
      ]
    },
    {
      "cell_type": "code",
      "source": [
        "#str(diabetes_y)"
      ],
      "metadata": {
        "colab": {
          "base_uri": "https://localhost:8080/",
          "height": 90
        },
        "id": "daDAnpLHRUJW",
        "outputId": "b2c8b61f-8e42-4592-b9e9-34e67cf6b79c"
      },
      "execution_count": 21,
      "outputs": [
        {
          "output_type": "execute_result",
          "data": {
            "text/plain": [
              "'[151.  75. 141. 206. 135.  97. 138.  63. 110. 310. 101.  69. 179. 185.\\n 118. 171. 166. 144.  97. 168.  68.  49.  68. 245. 184. 202. 137.  85.\\n 131. 283. 129.  59. 341.  87.  65. 102. 265. 276. 252.  90. 100.  55.\\n  61.  92. 259.  53. 190. 142.  75. 142. 155. 225.  59. 104. 182. 128.\\n  52.  37. 170. 170.  61. 144.  52. 128.  71. 163. 150.  97. 160. 178.\\n  48. 270. 202. 111.  85.  42. 170. 200. 252. 113. 143.  51.  52. 210.\\n  65. 141.  55. 134.  42. 111.  98. 164.  48.  96.  90. 162. 150. 279.\\n  92.  83. 128. 102. 302. 198.  95.  53. 134. 144. 232.  81. 104.  59.\\n 246. 297. 258. 229. 275. 281. 179. 200. 200. 173. 180.  84. 121. 161.\\n  99. 109. 115. 268. 274. 158. 107.  83. 103. 272.  85. 280. 336. 281.\\n 118. 317. 235.  60. 174. 259. 178. 128.  96. 126. 288.  88. 292.  71.\\n 197. 186.  25.  84.  96. 195.  53. 217. 172. 131. 214.  59.  70. 220.\\n 268. 152.  47.  74. 295. 101. 151. 127. 237. 225.  81. 151. 107.  64.\\n 138. 185. 265. 101. 137. 143. 141.  79. 292. 178.  91. 116.  86. 122.\\n  72. 129. 142.  90. 158.  39. 196. 222. 277.  99. 196. 202. 155.  77.\\n 191.  70.  73.  49.  65. 263. 248. 296. 214. 185.  78.  93. 252. 150.\\n  77. 208.  77. 108. 160.  53. 220. 154. 259.  90. 246. 124.  67.  72.\\n 257. 262. 275. 177.  71.  47. 187. 125.  78.  51. 258. 215. 303. 243.\\n  91. 150. 310. 153. 346.  63.  89.  50.  39. 103. 308. 116. 145.  74.\\n  45. 115. 264.  87. 202. 127. 182. 241.  66.  94. 283.  64. 102. 200.\\n 265.  94. 230. 181. 156. 233.  60. 219.  80.  68. 332. 248.  84. 200.\\n  55.  85.  89.  31. 129.  83. 275.  65. 198. 236. 253. 124.  44. 172.\\n 114. 142. 109. 180. 144. 163. 147.  97. 220. 190. 109. 191. 122. 230.\\n 242. 248. 249. 192. 131. 237.  78. 135. 244. 199. 270. 164.  72.  96.\\n 306.  91. 214.  95. 216. 263. 178. 113. 200. 139. 139.  88. 148.  88.\\n 243.  71.  77. 109. 272.  60.  54. 221.  90. 311. 281. 182. 321.  58.\\n 262. 206. 233. 242. 123. 167.  63. 197.  71. 168. 140. 217. 121. 235.\\n 245.  40.  52. 104. 132.  88.  69. 219.  72. 201. 110.  51. 277.  63.\\n 118.  69. 273. 258.  43. 198. 242. 232. 175.  93. 168. 275. 293. 281.\\n  72. 140. 189. 181. 209. 136. 261. 113. 131. 174. 257.  55.  84.  42.\\n 146. 212. 233.  91. 111. 152. 120.  67. 310.  94. 183.  66. 173.  72.\\n  49.  64.  48. 178. 104. 132. 220.  57.]'"
            ],
            "application/vnd.google.colaboratory.intrinsic+json": {
              "type": "string"
            }
          },
          "metadata": {},
          "execution_count": 21
        }
      ]
    },
    {
      "cell_type": "code",
      "source": [
        "##########################################\n",
        "# 하나의 특징(BMI)만 추려내서 2차원 배열로 만든다. BMI 특징의 인덱스가 2이다.\n",
        "diabetes_X_new = diabetes_X[:, np.newaxis, 2]\n",
        "print(diabetes_X_new.data.shape )"
      ],
      "metadata": {
        "colab": {
          "base_uri": "https://localhost:8080/"
        },
        "id": "Zjb9CGTkQ8B3",
        "outputId": "e3862afe-0df0-45d1-fc26-827a7b91f479"
      },
      "execution_count": 22,
      "outputs": [
        {
          "output_type": "stream",
          "name": "stdout",
          "text": [
            "(442, 1)\n"
          ]
        }
      ]
    },
    {
      "cell_type": "code",
      "source": [
        "# 학습 데이터와 테스트 데이터를 분리한다. \n",
        "from sklearn.model_selection import train_test_split\n",
        "X_train, X_test, y_train, y_test = train_test_split(diabetes_X_new, diabetes_y, test_size=0.1, random_state=0)\n",
        "\n",
        "regr = linear_model.LinearRegression()\n",
        "regr.fit(X_train, y_train)\n",
        "# regression coeff.s & score\n",
        "print(regr.coef_, regr.intercept_)\n",
        "print(regr.score(X_train, y_train))"
      ],
      "metadata": {
        "colab": {
          "base_uri": "https://localhost:8080/"
        },
        "id": "QGlEVMmJRyGJ",
        "outputId": "6d13662a-75dc-4680-fd12-7beaf73d0de3"
      },
      "execution_count": 23,
      "outputs": [
        {
          "output_type": "stream",
          "name": "stdout",
          "text": [
            "[966.7269242] 151.20933147606175\n",
            "0.3554944130715042\n"
          ]
        }
      ]
    },
    {
      "cell_type": "code",
      "source": [
        "# 테스트 데이터로 예측해보자. \n",
        "y_pred = regr.predict(X_test) \n",
        "from sklearn import metrics\n",
        "scores = metrics.r2_score(y_test, y_pred)  # r2_score for regression\n",
        "print(scores)\n"
      ],
      "metadata": {
        "colab": {
          "base_uri": "https://localhost:8080/"
        },
        "id": "EgEHEcvTSj_3",
        "outputId": "fbcb93a2-7234-4d0f-f85d-424d21959223"
      },
      "execution_count": 25,
      "outputs": [
        {
          "output_type": "stream",
          "name": "stdout",
          "text": [
            "0.1913673289984542\n"
          ]
        }
      ]
    },
    {
      "cell_type": "code",
      "source": [
        "# 실제 데이터와 예측 데이터를 비교해보자. \n",
        "# plt.plot(y_test, y_pred, '.')\n",
        "\n",
        "plt.scatter(X_test, y_test,  color='black')\n",
        "plt.plot(X_test, y_pred, color='blue', linewidth=3)\n",
        "plt.title(f\"Test data: R2 = {np.round(scores,3)}\")\n",
        "plt.show()"
      ],
      "metadata": {
        "colab": {
          "base_uri": "https://localhost:8080/",
          "height": 281
        },
        "id": "0PvgIJknSxlA",
        "outputId": "c03db1be-875d-44c0-ff89-aa5895191797"
      },
      "execution_count": 26,
      "outputs": [
        {
          "output_type": "display_data",
          "data": {
            "text/plain": [
              "<Figure size 432x288 with 1 Axes>"
            ],
            "image/png": "[encoded data removed]"
          },
          "metadata": {
            "needs_background": "light"
          }
        }
      ]
    },
    {
      "cell_type": "code",
      "source": [
        "#\n",
        "# pandas\n",
        "#\n",
        "########################################\n",
        "# 당뇨병 데이터 구조 => DataFrame\n",
        "# Attribute Information:\n",
        "#     - age     age in years\n",
        "#     - sex\n",
        "#     - bmi     body mass index\n",
        "#     - bp      average blood pressure\n",
        "#     - s1      tc, T-Cells (a type of white blood cells)\n",
        "#     - s2      ldl, low-density lipoproteins\n",
        "#     - s3      hdl, high-density lipoproteins\n",
        "#     - s4      tch, thyroid stimulating hormone\n",
        "#     - s5      ltg, lamotrigine\n",
        "#     - s6      glu, blood sugar level\n",
        "# - target  a quantitative measure of disease progression one year after baseline\n",
        "# [참고] https://wikidocs.net/49981\n",
        "#       https://suhyun72.tistory.com/entry/%EC%82%AC%EC%9D%B4%ED%82%B7%EB%9F%B0-scikit-learnsklearn-diabetes\n",
        "#\n",
        "########################################\n",
        "df0 = datasets.load_diabetes(as_frame=True)\n",
        "df0\n",
        "type(df0)\n",
        "df0.keys()\n",
        "print(df0.DESCR)\n",
        "df0.frame.shape\n",
        "df0.frame.head()\n",
        "# Make dataframe from data bunch\n",
        "df=df0.frame\n",
        "df.shape\n",
        "df.info()\n",
        "df.head()\n",
        "df.columns\n",
        "# ['age', 'sex', 'bmi', 'bp', 's1', 's2', 's3', 's4', 's5', 's6','target']\n",
        "df[['bmi']].plot()\n",
        "df[['bp']].plot()\n",
        "# plt.show()\n",
        "# 혈당치(glucose)와 target (당뇨병 진행도)\n",
        "df[['s6']].plot()\n",
        "df[['target']].plot()\n",
        "plt.show()\n",
        "\n",
        "# multiple plot\n",
        "df[['bmi','bp','s6','target']].plot()\n",
        "# df[['bmi','bp','s6']].plot()\n",
        "plt.show()\n",
        "\n",
        "# X and y\n",
        "# 하나의 특징(s6: 혈당치)만 추려내서 2차원 배열로 만든다. BMI 특징의 인덱스가 2이다.\n",
        "diabetes_X_new2=df.s6.values \n",
        "diabetes_X_new2=diabetes_X_new2[:,np.newaxis]\n",
        "diabetes_X_new2.shape, diabetes_y.shape\n",
        "\n",
        "X_train, X_test, y_train, y_test = train_test_split(diabetes_X_new2, diabetes_y, test_size=0.1, random_state=0)\n",
        "X_train.shape\n",
        "regr2 = linear_model.LinearRegression()\n",
        "regr2.fit(X_train, y_train)\n",
        "# regression coeff.s & score\n",
        "regr2.coef_, regr2.intercept_\n",
        "print(regr2.score(X_train, y_train))\n",
        "\n",
        "# 테스트 데이터로 예측해보자. \n",
        "y_pred = regr2.predict(X_test) \n",
        "\n",
        "# 실제 데이터와 예측 데이터를 비교해보자. \n",
        "# plt.plot(y_test, y_pred, '.')\n",
        "\n",
        "plt.scatter(X_test, y_test,  color='black')\n",
        "plt.plot(X_test, y_pred, 'r', linewidth=3)\n",
        "plt.show()\n",
        "\n",
        "#\n",
        "# 상관도표 (correlation) : df.corr()\n",
        "#\n",
        "import seaborn as sns\n",
        "sns.heatmap(df.corr(), \n",
        "        xticklabels=df.columns,\n",
        "        yticklabels=df.columns,\n",
        "        vmin= -1, vmax=1.0) #, cmap='coolwarm')\n",
        "plt.show()\n",
        "\n",
        "sns.pairplot(df)\n",
        "plt.show()\n",
        "\n",
        "# s5(lamotrigine )와 target (당뇨병 진행도)\n",
        "df[['s5']].plot()\n",
        "df[['target']].plot()\n",
        "\n",
        "sns.pairplot(df[['s5','target']])\n",
        "plt.show()\n",
        "# X and y\n",
        "# 하나의 특징(s5: lamotrigine)만 추려내서 2차원 배열로 만든다. BMI 특징의 인덱스가 2이다.\n",
        "\n",
        "diabetes_X_new3=df.s5.values \n",
        "diabetes_X_new3=diabetes_X_new3[:,np.newaxis]\n",
        "diabetes_X_new3.shape, diabetes_y.shape\n",
        "\n",
        "X_train, X_test, y_train, y_test = train_test_split(diabetes_X_new3, diabetes_y, test_size=0.1, random_state=0)\n",
        "X_train.shape\n",
        "regr3 = linear_model.LinearRegression()\n",
        "regr3.fit(X_train, y_train)\n",
        "\n",
        "# 테스트 데이터로 예측해보자. \n",
        "y_pred = regr3.predict(X_test) \n",
        "\n",
        "# 실제 데이터와 예측 데이터를 비교해보자. \n",
        "# plt.plot(y_test, y_pred, '.')\n",
        "\n",
        "plt.scatter(X_test, y_test,  color='black')\n",
        "plt.plot(X_test, y_pred, 'r', linewidth=3)\n",
        "plt.show()\n",
        "\n",
        "# regression coeff.s & score\n",
        "regr3.coef_,regr3.intercept_\n",
        "print(regr3.score(X_train, y_train))\n",
        "\n",
        "##################################\n",
        "# 비교 : bmi, s6, s5\n",
        "##################################\n",
        "print(regr.score(X_train, y_train))\n",
        "print(regr2.score(X_train, y_train))\n",
        "print(regr3.score(X_train, y_train))\n",
        "\n",
        "sns.pairplot(df[['bmi','s5','s6','target']])\n",
        "plt.show()\n",
        "#\n",
        "# {DIY} bp vs. target\n",
        "#"
      ],
      "metadata": {
        "id": "7EOnjxGPOcWQ"
      },
      "execution_count": null,
      "outputs": []
    }
  ]
}