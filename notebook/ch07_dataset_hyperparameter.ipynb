{
  "nbformat": 4,
  "nbformat_minor": 0,
  "metadata": {
    "colab": {
      "provenance": [],
      "authorship_tag": "ABX9TyOjb80VLoEtn42lunI92lse",
      "include_colab_link": true
    },
    "kernelspec": {
      "name": "python3",
      "display_name": "Python 3"
    },
    "language_info": {
      "name": "python"
    }
  },
  "cells": [
    {
      "cell_type": "markdown",
      "metadata": {
        "id": "view-in-github",
        "colab_type": "text"
      },
      "source": [
        "<a href=\"https://colab.research.google.com/github/alemskdlt/dl02/blob/main/notebook/ch07_dataset_hyperparameter.ipynb\" target=\"_parent\"><img src=\"https://colab.research.google.com/assets/colab-badge.svg\" alt=\"Open In Colab\"/></a>"
      ]
    },
    {
      "cell_type": "markdown",
      "source": [
        "# Datasets\n",
        "\n",
        "# Hyperparameter selection"
      ],
      "metadata": {
        "id": "Orsf3fDMGJx1"
      }
    },
    {
      "cell_type": "code",
      "execution_count": 4,
      "metadata": {
        "colab": {
          "base_uri": "https://localhost:8080/"
        },
        "id": "5mHKnqeOGCni",
        "outputId": "c87c1058-3736-4944-ffe7-fac00189d365"
      },
      "outputs": [
        {
          "output_type": "execute_result",
          "data": {
            "text/plain": [
              "((3, 2, 3), 3, dtype('int64'))"
            ]
          },
          "metadata": {},
          "execution_count": 4
        }
      ],
      "source": [
        "# datasets\n",
        "import numpy as np\n",
        "\n",
        "array = np.array([[[1, 2, 3], [4, 5, 6]], [[7, 8, 9], [10, 11, 12]], [[13, 14, 15], [16, 17, 18]]])\n",
        "array.shape, array.ndim, array.dtype"
      ]
    },
    {
      "cell_type": "code",
      "source": [
        "arr1 = np.empty((3, 4, 5, 6)) # zeros(), ones()\n",
        "arr1.shape"
      ],
      "metadata": {
        "colab": {
          "base_uri": "https://localhost:8080/"
        },
        "id": "cmIdN_CiGoxW",
        "outputId": "d4d7dc89-b2df-438c-b43f-9244af9f31d3"
      },
      "execution_count": 6,
      "outputs": [
        {
          "output_type": "execute_result",
          "data": {
            "text/plain": [
              "(3, 4, 5, 6)"
            ]
          },
          "metadata": {},
          "execution_count": 6
        }
      ]
    },
    {
      "cell_type": "code",
      "source": [
        "# vector records\n",
        "arr2 = np.random.randn(500,8) #\n",
        "arr2.shape"
      ],
      "metadata": {
        "colab": {
          "base_uri": "https://localhost:8080/"
        },
        "id": "N0KQ5c6hGfVq",
        "outputId": "06889e84-c575-4fd8-bdcb-d4e2651f6c92"
      },
      "execution_count": 7,
      "outputs": [
        {
          "output_type": "execute_result",
          "data": {
            "text/plain": [
              "(500, 8)"
            ]
          },
          "metadata": {},
          "execution_count": 7
        }
      ]
    },
    {
      "cell_type": "code",
      "source": [
        "# color images\n",
        "arr3 = np.empty((60000,28,28,3)) #\n",
        "arr3.shape"
      ],
      "metadata": {
        "colab": {
          "base_uri": "https://localhost:8080/"
        },
        "id": "bkbKxzhVHBoB",
        "outputId": "081477ad-e4ba-4dd7-cdb8-e4192c823ba1"
      },
      "execution_count": 8,
      "outputs": [
        {
          "output_type": "execute_result",
          "data": {
            "text/plain": [
              "(60000, 28, 28, 3)"
            ]
          },
          "metadata": {},
          "execution_count": 8
        }
      ]
    },
    {
      "cell_type": "code",
      "source": [
        "# time series\n",
        "arr4 = np.random.randn(20,365,4) #\n",
        "arr4.shape\n"
      ],
      "metadata": {
        "colab": {
          "base_uri": "https://localhost:8080/"
        },
        "id": "6tbfrd5-HJ15",
        "outputId": "dee1297a-4ee4-4ce0-d73d-78b7db4bd2aa"
      },
      "execution_count": 10,
      "outputs": [
        {
          "output_type": "execute_result",
          "data": {
            "text/plain": [
              "(20, 365, 4)"
            ]
          },
          "metadata": {},
          "execution_count": 10
        }
      ]
    },
    {
      "cell_type": "markdown",
      "source": [
        "---\n",
        "---"
      ],
      "metadata": {
        "id": "mlZI2_asHbDz"
      }
    },
    {
      "cell_type": "markdown",
      "source": [
        "## Hyperparameter search\n",
        "- epochs\n",
        "- batch-size"
      ],
      "metadata": {
        "id": "L_p6Js9sO6Ze"
      }
    },
    {
      "cell_type": "code",
      "source": [
        "# !pip install scikeras"
      ],
      "metadata": {
        "colab": {
          "base_uri": "https://localhost:8080/"
        },
        "id": "X0b4JJdHPL3u",
        "outputId": "be618f4e-a9a2-4ac6-c045-6e6e0aad1b9b"
      },
      "execution_count": 11,
      "outputs": [
        {
          "output_type": "stream",
          "name": "stdout",
          "text": [
            "Looking in indexes: https://pypi.org/simple, https://us-python.pkg.dev/colab-wheels/public/simple/\n",
            "Collecting scikeras\n",
            "  Downloading scikeras-0.10.0-py3-none-any.whl (27 kB)\n",
            "Requirement already satisfied: packaging>=0.21 in /usr/local/lib/python3.10/dist-packages (from scikeras) (23.1)\n",
            "Requirement already satisfied: scikit-learn>=1.0.0 in /usr/local/lib/python3.10/dist-packages (from scikeras) (1.2.2)\n",
            "Requirement already satisfied: numpy>=1.17.3 in /usr/local/lib/python3.10/dist-packages (from scikit-learn>=1.0.0->scikeras) (1.22.4)\n",
            "Requirement already satisfied: joblib>=1.1.1 in /usr/local/lib/python3.10/dist-packages (from scikit-learn>=1.0.0->scikeras) (1.2.0)\n",
            "Requirement already satisfied: threadpoolctl>=2.0.0 in /usr/local/lib/python3.10/dist-packages (from scikit-learn>=1.0.0->scikeras) (3.1.0)\n",
            "Requirement already satisfied: scipy>=1.3.2 in /usr/local/lib/python3.10/dist-packages (from scikit-learn>=1.0.0->scikeras) (1.10.1)\n",
            "Installing collected packages: scikeras\n",
            "Successfully installed scikeras-0.10.0\n"
          ]
        }
      ]
    },
    {
      "cell_type": "code",
      "source": [
        "# import numpy as np \n",
        "# import matplotlib.pyplot as plt \n",
        "import tensorflow as tf\n",
        "from sklearn.model_selection import GridSearchCV\n",
        "# from tensorflow.keras.wrappers.scikit_learn import KerasClassifier\n",
        "from scikeras.wrappers import KerasClassifier\n",
        "# OS warning cure\n",
        "import os\n",
        "os.environ['TF_CPP_MIN_LOG_LEVEL'] = '3'\n",
        "\n",
        "# 데이터 세트 준비\n",
        "(train_images, train_labels), (test_images, test_labels) = tf.keras.datasets.mnist.load_data()\n",
        "\n",
        "train_images = train_images.reshape((60000, 28 * 28))\n",
        "train_images = train_images.astype('float32') / 255\n",
        "\n",
        "test_images = test_images.reshape((10000, 28 * 28))\n",
        "test_images = test_images.astype('float32') / 255\n",
        "\n",
        "train_labels = tf.keras.utils.to_categorical(train_labels)\n",
        "test_labels = tf.keras.utils.to_categorical(test_labels)\n",
        "                             \n",
        "# 신경망 모델 구축\n",
        "def build_model():\n",
        "    network = tf.keras.models.Sequential()\n",
        "    network.add(tf.keras.layers.Dense(512, activation='relu', input_shape=(28 * 28,)))\n",
        "    network.add(tf.keras.layers.Dense(10, activation='sigmoid'))\n",
        "\n",
        "    network.compile(optimizer='rmsprop',\n",
        "                loss='categorical_crossentropy',\n",
        "                metrics=['accuracy'])\n",
        "    return network\n",
        "\n",
        "# 하이퍼 매개변수 딕셔너리\n",
        "param_grid = {\n",
        "              'epochs':[1, 2, 3],\t# 에포크 수: 1, 2, 3\n",
        "              'batch_size':[32, 64, 100]\t# 배치 크기: 32, 64, 100\n",
        "             }\n",
        "\n",
        "# 케라스 모델을 scikeras에서 사용하도록 포장한다. \n",
        "model = KerasClassifier(model = build_model, verbose=1)\n",
        "\n",
        "## Elapsed time start\n",
        "import time\n",
        "start = time.time()\n",
        "\n",
        "# 그리드 검색\n",
        "gs = GridSearchCV(\n",
        "    estimator=model,\n",
        "    param_grid=param_grid, \n",
        "    cv=3, \n",
        "    # n_jobs=-1 # comment this line to avoid out-of-memory\n",
        ")\n",
        "\n",
        "# 그리드 검색 결과 출력\n",
        "grid_result = gs.fit(train_images, train_labels)\n",
        "\n",
        "## Elapsed time end\n",
        "end = time.time()\n",
        "print('Elapsed time:', end - start) # Elapsed time: 122.5, 189.5\n",
        "\n",
        "print(grid_result.best_score_) # 0.9725, 0.9711\n",
        "print(grid_result.best_params_) # {'batch_size': 64, 'epochs': 3}\n"
      ],
      "metadata": {
        "colab": {
          "base_uri": "https://localhost:8080/"
        },
        "id": "YxqChkkEHeWO",
        "outputId": "db21b262-96d8-436d-9438-ba3ded29ef73"
      },
      "execution_count": 12,
      "outputs": [
        {
          "output_type": "stream",
          "name": "stdout",
          "text": [
            "Downloading data from https://storage.googleapis.com/tensorflow/tf-keras-datasets/mnist.npz\n",
            "11490434/11490434 [==============================] - 0s 0us/step\n",
            "1250/1250 [==============================] - 8s 6ms/step - loss: 0.2426 - accuracy: 0.9281\n",
            "625/625 [==============================] - 2s 3ms/step\n",
            "1250/1250 [==============================] - 8s 6ms/step - loss: 0.2360 - accuracy: 0.9307\n",
            "625/625 [==============================] - 1s 2ms/step\n",
            "1250/1250 [==============================] - 9s 6ms/step - loss: 0.2375 - accuracy: 0.9302\n",
            "625/625 [==============================] - 1s 2ms/step\n",
            "Epoch 1/2\n",
            "1250/1250 [==============================] - 9s 7ms/step - loss: 0.2396 - accuracy: 0.9302\n",
            "Epoch 2/2\n",
            "1250/1250 [==============================] - 8s 7ms/step - loss: 0.1008 - accuracy: 0.9700\n",
            "625/625 [==============================] - 1s 2ms/step\n",
            "Epoch 1/2\n",
            "1250/1250 [==============================] - 8s 6ms/step - loss: 0.2373 - accuracy: 0.9294\n",
            "Epoch 2/2\n",
            "1250/1250 [==============================] - 8s 7ms/step - loss: 0.0994 - accuracy: 0.9698\n",
            "625/625 [==============================] - 2s 3ms/step\n",
            "Epoch 1/2\n",
            "1250/1250 [==============================] - 8s 6ms/step - loss: 0.2394 - accuracy: 0.9293\n",
            "Epoch 2/2\n",
            "1250/1250 [==============================] - 10s 8ms/step - loss: 0.0972 - accuracy: 0.9709\n",
            "625/625 [==============================] - 1s 2ms/step\n",
            "Epoch 1/3\n",
            "1250/1250 [==============================] - 9s 7ms/step - loss: 0.2412 - accuracy: 0.9277\n",
            "Epoch 2/3\n",
            "1250/1250 [==============================] - 8s 6ms/step - loss: 0.1017 - accuracy: 0.9693\n",
            "Epoch 3/3\n",
            "1250/1250 [==============================] - 8s 6ms/step - loss: 0.0694 - accuracy: 0.9802\n",
            "625/625 [==============================] - 1s 2ms/step\n",
            "Epoch 1/3\n",
            "1250/1250 [==============================] - 12s 9ms/step - loss: 0.2371 - accuracy: 0.9298\n",
            "Epoch 2/3\n",
            "1250/1250 [==============================] - 9s 7ms/step - loss: 0.0989 - accuracy: 0.9703\n",
            "Epoch 3/3\n",
            "1250/1250 [==============================] - 8s 7ms/step - loss: 0.0662 - accuracy: 0.9794\n",
            "625/625 [==============================] - 2s 2ms/step\n",
            "Epoch 1/3\n",
            "1250/1250 [==============================] - 8s 6ms/step - loss: 0.2407 - accuracy: 0.9297\n",
            "Epoch 2/3\n",
            "1250/1250 [==============================] - 8s 7ms/step - loss: 0.0996 - accuracy: 0.9694\n",
            "Epoch 3/3\n",
            "1250/1250 [==============================] - 8s 7ms/step - loss: 0.0659 - accuracy: 0.9802\n",
            "625/625 [==============================] - 1s 2ms/step\n",
            "625/625 [==============================] - 6s 9ms/step - loss: 0.2711 - accuracy: 0.9206\n",
            "313/313 [==============================] - 1s 3ms/step\n",
            "625/625 [==============================] - 5s 7ms/step - loss: 0.2690 - accuracy: 0.9216\n",
            "313/313 [==============================] - 1s 3ms/step\n",
            "625/625 [==============================] - 6s 9ms/step - loss: 0.2642 - accuracy: 0.9246\n",
            "313/313 [==============================] - 1s 3ms/step\n",
            "Epoch 1/2\n",
            "625/625 [==============================] - 5s 7ms/step - loss: 0.2690 - accuracy: 0.9222\n",
            "Epoch 2/2\n",
            "625/625 [==============================] - 5s 9ms/step - loss: 0.1121 - accuracy: 0.9674\n",
            "313/313 [==============================] - 1s 3ms/step\n",
            "Epoch 1/2\n",
            "625/625 [==============================] - 5s 7ms/step - loss: 0.2641 - accuracy: 0.9225\n",
            "Epoch 2/2\n",
            "625/625 [==============================] - 5s 9ms/step - loss: 0.1108 - accuracy: 0.9676\n",
            "313/313 [==============================] - 1s 3ms/step\n",
            "Epoch 1/2\n",
            "625/625 [==============================] - 5s 7ms/step - loss: 0.2759 - accuracy: 0.9202\n",
            "Epoch 2/2\n",
            "625/625 [==============================] - 5s 8ms/step - loss: 0.1119 - accuracy: 0.9676\n",
            "313/313 [==============================] - 1s 3ms/step\n",
            "Epoch 1/3\n",
            "625/625 [==============================] - 5s 7ms/step - loss: 0.2695 - accuracy: 0.9206\n",
            "Epoch 2/3\n",
            "625/625 [==============================] - 5s 8ms/step - loss: 0.1126 - accuracy: 0.9661\n",
            "Epoch 3/3\n",
            "625/625 [==============================] - 5s 7ms/step - loss: 0.0745 - accuracy: 0.9767\n",
            "313/313 [==============================] - 1s 3ms/step\n",
            "Epoch 1/3\n",
            "625/625 [==============================] - 5s 8ms/step - loss: 0.2703 - accuracy: 0.9212\n",
            "Epoch 2/3\n",
            "625/625 [==============================] - 5s 8ms/step - loss: 0.1095 - accuracy: 0.9679\n",
            "Epoch 3/3\n",
            "625/625 [==============================] - 4s 7ms/step - loss: 0.0713 - accuracy: 0.9785\n",
            "313/313 [==============================] - 1s 3ms/step\n",
            "Epoch 1/3\n",
            "625/625 [==============================] - 5s 7ms/step - loss: 0.2699 - accuracy: 0.9226\n",
            "Epoch 2/3\n",
            "625/625 [==============================] - 5s 9ms/step - loss: 0.1088 - accuracy: 0.9675\n",
            "Epoch 3/3\n",
            "625/625 [==============================] - 4s 7ms/step - loss: 0.0706 - accuracy: 0.9794\n",
            "313/313 [==============================] - 1s 3ms/step\n",
            "400/400 [==============================] - 4s 9ms/step - loss: 0.2979 - accuracy: 0.9139\n",
            "200/200 [==============================] - 1s 3ms/step\n",
            "400/400 [==============================] - 4s 8ms/step - loss: 0.2906 - accuracy: 0.9175\n",
            "200/200 [==============================] - 1s 3ms/step\n",
            "400/400 [==============================] - 5s 11ms/step - loss: 0.2941 - accuracy: 0.9152\n",
            "200/200 [==============================] - 1s 4ms/step\n",
            "Epoch 1/2\n",
            "400/400 [==============================] - 4s 8ms/step - loss: 0.2961 - accuracy: 0.9139\n",
            "Epoch 2/2\n",
            "400/400 [==============================] - 3s 8ms/step - loss: 0.1265 - accuracy: 0.9625\n",
            "200/200 [==============================] - 1s 3ms/step\n",
            "Epoch 1/2\n",
            "400/400 [==============================] - 4s 8ms/step - loss: 0.2909 - accuracy: 0.9165\n",
            "Epoch 2/2\n",
            "400/400 [==============================] - 3s 8ms/step - loss: 0.1239 - accuracy: 0.9632\n",
            "200/200 [==============================] - 1s 5ms/step\n",
            "Epoch 1/2\n",
            "400/400 [==============================] - 4s 9ms/step - loss: 0.2986 - accuracy: 0.9132\n",
            "Epoch 2/2\n",
            "400/400 [==============================] - 3s 8ms/step - loss: 0.1271 - accuracy: 0.9629\n",
            "200/200 [==============================] - 1s 4ms/step\n",
            "Epoch 1/3\n",
            "400/400 [==============================] - 4s 9ms/step - loss: 0.2995 - accuracy: 0.9120\n",
            "Epoch 2/3\n",
            "400/400 [==============================] - 3s 8ms/step - loss: 0.1262 - accuracy: 0.9623\n",
            "Epoch 3/3\n",
            "400/400 [==============================] - 3s 8ms/step - loss: 0.0827 - accuracy: 0.9751\n",
            "200/200 [==============================] - 1s 4ms/step\n",
            "Epoch 1/3\n",
            "400/400 [==============================] - 4s 9ms/step - loss: 0.2982 - accuracy: 0.9142\n",
            "Epoch 2/3\n",
            "400/400 [==============================] - 3s 8ms/step - loss: 0.1260 - accuracy: 0.9631\n",
            "Epoch 3/3\n",
            "400/400 [==============================] - 3s 8ms/step - loss: 0.0814 - accuracy: 0.9758\n",
            "200/200 [==============================] - 1s 4ms/step\n",
            "Epoch 1/3\n",
            "400/400 [==============================] - 4s 8ms/step - loss: 0.2955 - accuracy: 0.9137\n",
            "Epoch 2/3\n",
            "400/400 [==============================] - 3s 8ms/step - loss: 0.1226 - accuracy: 0.9640\n",
            "Epoch 3/3\n",
            "400/400 [==============================] - 3s 8ms/step - loss: 0.0795 - accuracy: 0.9768\n",
            "200/200 [==============================] - 1s 6ms/step\n",
            "Epoch 1/3\n",
            "938/938 [==============================] - 7s 7ms/step - loss: 0.2227 - accuracy: 0.9351\n",
            "Epoch 2/3\n",
            "938/938 [==============================] - 8s 8ms/step - loss: 0.0906 - accuracy: 0.9725\n",
            "Epoch 3/3\n",
            "938/938 [==============================] - 7s 7ms/step - loss: 0.0598 - accuracy: 0.9819\n",
            "Elapsed time: 447.78833079338074\n",
            "0.9728499999999999\n",
            "{'batch_size': 64, 'epochs': 3}\n"
          ]
        }
      ]
    }
  ]
}