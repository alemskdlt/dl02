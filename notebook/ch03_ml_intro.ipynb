{
  "nbformat": 4,
  "nbformat_minor": 0,
  "metadata": {
    "colab": {
      "provenance": [],
      "authorship_tag": "ABX9TyNvcwMXazsCqMYdaPcrGLzh",
      "include_colab_link": true
    },
    "kernelspec": {
      "name": "python3",
      "display_name": "Python 3"
    },
    "language_info": {
      "name": "python"
    }
  },
  "cells": [
    {
      "cell_type": "markdown",
      "metadata": {
        "id": "view-in-github",
        "colab_type": "text"
      },
      "source": [
        "<a href=\"https://colab.research.google.com/github/alemskdlt/dl02/blob/main/notebook/ch03_ml_intro.ipynb\" target=\"_parent\"><img src=\"https://colab.research.google.com/assets/colab-badge.svg\" alt=\"Open In Colab\"/></a>"
      ]
    },
    {
      "cell_type": "markdown",
      "source": [
        "## Intro to ML\n",
        "### sklearn\n",
        "- iris : knn\n",
        "- logits : knn\n",
        "- confusiom matrix (혼동행렬)"
      ],
      "metadata": {
        "id": "znX8EFzKE5Pn"
      }
    },
    {
      "cell_type": "markdown",
      "source": [
        "## iris dataset\n"
      ],
      "metadata": {
        "id": "Gnxbch92FbI8"
      }
    },
    {
      "cell_type": "code",
      "execution_count": 22,
      "metadata": {
        "colab": {
          "base_uri": "https://localhost:8080/"
        },
        "id": "26wa4tozEfvf",
        "outputId": "39a7e155-c2c8-4ce4-89af-9234cbc20cd8"
      },
      "outputs": [
        {
          "output_type": "stream",
          "name": "stdout",
          "text": [
            "{'data': array([[5.1, 3.5, 1.4, 0.2],\n",
            "       [4.9, 3. , 1.4, 0.2],\n",
            "       [4.7, 3.2, 1.3, 0.2],\n",
            "       [4.6, 3.1, 1.5, 0.2],\n",
            "       [5. , 3.6, 1.4, 0.2],\n",
            "       [5.4, 3.9, 1.7, 0.4],\n",
            "       [4.6, 3.4, 1.4, 0.3],\n",
            "       [5. , 3.4, 1.5, 0.2],\n",
            "       [4.4, 2.9, 1.4, 0.2],\n",
            "       [4.9, 3.1, 1.5, 0.1],\n",
            "       [5.4, 3.7, 1.5, 0.2],\n",
            "       [4.8, 3.4, 1.6, 0.2],\n",
            "       [4.8, 3. , 1.4, 0.1],\n",
            "       [4.3, 3. , 1.1, 0.1],\n",
            "       [5.8, 4. , 1.2, 0.2],\n",
            "       [5.7, 4.4, 1.5, 0.4],\n",
            "       [5.4, 3.9, 1.3, 0.4],\n",
            "       [5.1, 3.5, 1.4, 0.3],\n",
            "       [5.7, 3.8, 1.7, 0.3],\n",
            "       [5.1, 3.8, 1.5, 0.3],\n",
            "       [5.4, 3.4, 1.7, 0.2],\n",
            "       [5.1, 3.7, 1.5, 0.4],\n",
            "       [4.6, 3.6, 1. , 0.2],\n",
            "       [5.1, 3.3, 1.7, 0.5],\n",
            "       [4.8, 3.4, 1.9, 0.2],\n",
            "       [5. , 3. , 1.6, 0.2],\n",
            "       [5. , 3.4, 1.6, 0.4],\n",
            "       [5.2, 3.5, 1.5, 0.2],\n",
            "       [5.2, 3.4, 1.4, 0.2],\n",
            "       [4.7, 3.2, 1.6, 0.2],\n",
            "       [4.8, 3.1, 1.6, 0.2],\n",
            "       [5.4, 3.4, 1.5, 0.4],\n",
            "       [5.2, 4.1, 1.5, 0.1],\n",
            "       [5.5, 4.2, 1.4, 0.2],\n",
            "       [4.9, 3.1, 1.5, 0.2],\n",
            "       [5. , 3.2, 1.2, 0.2],\n",
            "       [5.5, 3.5, 1.3, 0.2],\n",
            "       [4.9, 3.6, 1.4, 0.1],\n",
            "       [4.4, 3. , 1.3, 0.2],\n",
            "       [5.1, 3.4, 1.5, 0.2],\n",
            "       [5. , 3.5, 1.3, 0.3],\n",
            "       [4.5, 2.3, 1.3, 0.3],\n",
            "       [4.4, 3.2, 1.3, 0.2],\n",
            "       [5. , 3.5, 1.6, 0.6],\n",
            "       [5.1, 3.8, 1.9, 0.4],\n",
            "       [4.8, 3. , 1.4, 0.3],\n",
            "       [5.1, 3.8, 1.6, 0.2],\n",
            "       [4.6, 3.2, 1.4, 0.2],\n",
            "       [5.3, 3.7, 1.5, 0.2],\n",
            "       [5. , 3.3, 1.4, 0.2],\n",
            "       [7. , 3.2, 4.7, 1.4],\n",
            "       [6.4, 3.2, 4.5, 1.5],\n",
            "       [6.9, 3.1, 4.9, 1.5],\n",
            "       [5.5, 2.3, 4. , 1.3],\n",
            "       [6.5, 2.8, 4.6, 1.5],\n",
            "       [5.7, 2.8, 4.5, 1.3],\n",
            "       [6.3, 3.3, 4.7, 1.6],\n",
            "       [4.9, 2.4, 3.3, 1. ],\n",
            "       [6.6, 2.9, 4.6, 1.3],\n",
            "       [5.2, 2.7, 3.9, 1.4],\n",
            "       [5. , 2. , 3.5, 1. ],\n",
            "       [5.9, 3. , 4.2, 1.5],\n",
            "       [6. , 2.2, 4. , 1. ],\n",
            "       [6.1, 2.9, 4.7, 1.4],\n",
            "       [5.6, 2.9, 3.6, 1.3],\n",
            "       [6.7, 3.1, 4.4, 1.4],\n",
            "       [5.6, 3. , 4.5, 1.5],\n",
            "       [5.8, 2.7, 4.1, 1. ],\n",
            "       [6.2, 2.2, 4.5, 1.5],\n",
            "       [5.6, 2.5, 3.9, 1.1],\n",
            "       [5.9, 3.2, 4.8, 1.8],\n",
            "       [6.1, 2.8, 4. , 1.3],\n",
            "       [6.3, 2.5, 4.9, 1.5],\n",
            "       [6.1, 2.8, 4.7, 1.2],\n",
            "       [6.4, 2.9, 4.3, 1.3],\n",
            "       [6.6, 3. , 4.4, 1.4],\n",
            "       [6.8, 2.8, 4.8, 1.4],\n",
            "       [6.7, 3. , 5. , 1.7],\n",
            "       [6. , 2.9, 4.5, 1.5],\n",
            "       [5.7, 2.6, 3.5, 1. ],\n",
            "       [5.5, 2.4, 3.8, 1.1],\n",
            "       [5.5, 2.4, 3.7, 1. ],\n",
            "       [5.8, 2.7, 3.9, 1.2],\n",
            "       [6. , 2.7, 5.1, 1.6],\n",
            "       [5.4, 3. , 4.5, 1.5],\n",
            "       [6. , 3.4, 4.5, 1.6],\n",
            "       [6.7, 3.1, 4.7, 1.5],\n",
            "       [6.3, 2.3, 4.4, 1.3],\n",
            "       [5.6, 3. , 4.1, 1.3],\n",
            "       [5.5, 2.5, 4. , 1.3],\n",
            "       [5.5, 2.6, 4.4, 1.2],\n",
            "       [6.1, 3. , 4.6, 1.4],\n",
            "       [5.8, 2.6, 4. , 1.2],\n",
            "       [5. , 2.3, 3.3, 1. ],\n",
            "       [5.6, 2.7, 4.2, 1.3],\n",
            "       [5.7, 3. , 4.2, 1.2],\n",
            "       [5.7, 2.9, 4.2, 1.3],\n",
            "       [6.2, 2.9, 4.3, 1.3],\n",
            "       [5.1, 2.5, 3. , 1.1],\n",
            "       [5.7, 2.8, 4.1, 1.3],\n",
            "       [6.3, 3.3, 6. , 2.5],\n",
            "       [5.8, 2.7, 5.1, 1.9],\n",
            "       [7.1, 3. , 5.9, 2.1],\n",
            "       [6.3, 2.9, 5.6, 1.8],\n",
            "       [6.5, 3. , 5.8, 2.2],\n",
            "       [7.6, 3. , 6.6, 2.1],\n",
            "       [4.9, 2.5, 4.5, 1.7],\n",
            "       [7.3, 2.9, 6.3, 1.8],\n",
            "       [6.7, 2.5, 5.8, 1.8],\n",
            "       [7.2, 3.6, 6.1, 2.5],\n",
            "       [6.5, 3.2, 5.1, 2. ],\n",
            "       [6.4, 2.7, 5.3, 1.9],\n",
            "       [6.8, 3. , 5.5, 2.1],\n",
            "       [5.7, 2.5, 5. , 2. ],\n",
            "       [5.8, 2.8, 5.1, 2.4],\n",
            "       [6.4, 3.2, 5.3, 2.3],\n",
            "       [6.5, 3. , 5.5, 1.8],\n",
            "       [7.7, 3.8, 6.7, 2.2],\n",
            "       [7.7, 2.6, 6.9, 2.3],\n",
            "       [6. , 2.2, 5. , 1.5],\n",
            "       [6.9, 3.2, 5.7, 2.3],\n",
            "       [5.6, 2.8, 4.9, 2. ],\n",
            "       [7.7, 2.8, 6.7, 2. ],\n",
            "       [6.3, 2.7, 4.9, 1.8],\n",
            "       [6.7, 3.3, 5.7, 2.1],\n",
            "       [7.2, 3.2, 6. , 1.8],\n",
            "       [6.2, 2.8, 4.8, 1.8],\n",
            "       [6.1, 3. , 4.9, 1.8],\n",
            "       [6.4, 2.8, 5.6, 2.1],\n",
            "       [7.2, 3. , 5.8, 1.6],\n",
            "       [7.4, 2.8, 6.1, 1.9],\n",
            "       [7.9, 3.8, 6.4, 2. ],\n",
            "       [6.4, 2.8, 5.6, 2.2],\n",
            "       [6.3, 2.8, 5.1, 1.5],\n",
            "       [6.1, 2.6, 5.6, 1.4],\n",
            "       [7.7, 3. , 6.1, 2.3],\n",
            "       [6.3, 3.4, 5.6, 2.4],\n",
            "       [6.4, 3.1, 5.5, 1.8],\n",
            "       [6. , 3. , 4.8, 1.8],\n",
            "       [6.9, 3.1, 5.4, 2.1],\n",
            "       [6.7, 3.1, 5.6, 2.4],\n",
            "       [6.9, 3.1, 5.1, 2.3],\n",
            "       [5.8, 2.7, 5.1, 1.9],\n",
            "       [6.8, 3.2, 5.9, 2.3],\n",
            "       [6.7, 3.3, 5.7, 2.5],\n",
            "       [6.7, 3. , 5.2, 2.3],\n",
            "       [6.3, 2.5, 5. , 1.9],\n",
            "       [6.5, 3. , 5.2, 2. ],\n",
            "       [6.2, 3.4, 5.4, 2.3],\n",
            "       [5.9, 3. , 5.1, 1.8]]), 'target': array([0, 0, 0, 0, 0, 0, 0, 0, 0, 0, 0, 0, 0, 0, 0, 0, 0, 0, 0, 0, 0, 0,\n",
            "       0, 0, 0, 0, 0, 0, 0, 0, 0, 0, 0, 0, 0, 0, 0, 0, 0, 0, 0, 0, 0, 0,\n",
            "       0, 0, 0, 0, 0, 0, 1, 1, 1, 1, 1, 1, 1, 1, 1, 1, 1, 1, 1, 1, 1, 1,\n",
            "       1, 1, 1, 1, 1, 1, 1, 1, 1, 1, 1, 1, 1, 1, 1, 1, 1, 1, 1, 1, 1, 1,\n",
            "       1, 1, 1, 1, 1, 1, 1, 1, 1, 1, 1, 1, 2, 2, 2, 2, 2, 2, 2, 2, 2, 2,\n",
            "       2, 2, 2, 2, 2, 2, 2, 2, 2, 2, 2, 2, 2, 2, 2, 2, 2, 2, 2, 2, 2, 2,\n",
            "       2, 2, 2, 2, 2, 2, 2, 2, 2, 2, 2, 2, 2, 2, 2, 2, 2, 2]), 'frame': None, 'target_names': array(['setosa', 'versicolor', 'virginica'], dtype='<U10'), 'DESCR': '.. _iris_dataset:\\n\\nIris plants dataset\\n--------------------\\n\\n**Data Set Characteristics:**\\n\\n    :Number of Instances: 150 (50 in each of three classes)\\n    :Number of Attributes: 4 numeric, predictive attributes and the class\\n    :Attribute Information:\\n        - sepal length in cm\\n        - sepal width in cm\\n        - petal length in cm\\n        - petal width in cm\\n        - class:\\n                - Iris-Setosa\\n                - Iris-Versicolour\\n                - Iris-Virginica\\n                \\n    :Summary Statistics:\\n\\n    ============== ==== ==== ======= ===== ====================\\n                    Min  Max   Mean    SD   Class Correlation\\n    ============== ==== ==== ======= ===== ====================\\n    sepal length:   4.3  7.9   5.84   0.83    0.7826\\n    sepal width:    2.0  4.4   3.05   0.43   -0.4194\\n    petal length:   1.0  6.9   3.76   1.76    0.9490  (high!)\\n    petal width:    0.1  2.5   1.20   0.76    0.9565  (high!)\\n    ============== ==== ==== ======= ===== ====================\\n\\n    :Missing Attribute Values: None\\n    :Class Distribution: 33.3% for each of 3 classes.\\n    :Creator: R.A. Fisher\\n    :Donor: Michael Marshall (MARSHALL%PLU@io.arc.nasa.gov)\\n    :Date: July, 1988\\n\\nThe famous Iris database, first used by Sir R.A. Fisher. The dataset is taken\\nfrom Fisher\\'s paper. Note that it\\'s the same as in R, but not as in the UCI\\nMachine Learning Repository, which has two wrong data points.\\n\\nThis is perhaps the best known database to be found in the\\npattern recognition literature.  Fisher\\'s paper is a classic in the field and\\nis referenced frequently to this day.  (See Duda & Hart, for example.)  The\\ndata set contains 3 classes of 50 instances each, where each class refers to a\\ntype of iris plant.  One class is linearly separable from the other 2; the\\nlatter are NOT linearly separable from each other.\\n\\n.. topic:: References\\n\\n   - Fisher, R.A. \"The use of multiple measurements in taxonomic problems\"\\n     Annual Eugenics, 7, Part II, 179-188 (1936); also in \"Contributions to\\n     Mathematical Statistics\" (John Wiley, NY, 1950).\\n   - Duda, R.O., & Hart, P.E. (1973) Pattern Classification and Scene Analysis.\\n     (Q327.D83) John Wiley & Sons.  ISBN 0-471-22361-1.  See page 218.\\n   - Dasarathy, B.V. (1980) \"Nosing Around the Neighborhood: A New System\\n     Structure and Classification Rule for Recognition in Partially Exposed\\n     Environments\".  IEEE Transactions on Pattern Analysis and Machine\\n     Intelligence, Vol. PAMI-2, No. 1, 67-71.\\n   - Gates, G.W. (1972) \"The Reduced Nearest Neighbor Rule\".  IEEE Transactions\\n     on Information Theory, May 1972, 431-433.\\n   - See also: 1988 MLC Proceedings, 54-64.  Cheeseman et al\"s AUTOCLASS II\\n     conceptual clustering system finds 3 classes in the data.\\n   - Many, many more ...', 'feature_names': ['sepal length (cm)', 'sepal width (cm)', 'petal length (cm)', 'petal width (cm)'], 'filename': 'iris.csv', 'data_module': 'sklearn.datasets.data'}\n"
          ]
        }
      ],
      "source": [
        "# iris dataset\n",
        "from sklearn import datasets\n",
        "iris = datasets.load_iris()\n",
        "\n",
        "print(iris)\n"
      ]
    },
    {
      "cell_type": "code",
      "source": [
        "#iris.data.shape              # data라는 속성에 접근 하기 위해 .data 입력\n",
        "#iris.target.shape\n",
        "print(iris.target_names)"
      ],
      "metadata": {
        "colab": {
          "base_uri": "https://localhost:8080/"
        },
        "id": "P2O2z83eGUYy",
        "outputId": "6f544d41-da37-4c91-c107-eaed400960cf"
      },
      "execution_count": 23,
      "outputs": [
        {
          "output_type": "stream",
          "name": "stdout",
          "text": [
            "['setosa' 'versicolor' 'virginica']\n"
          ]
        }
      ]
    },
    {
      "cell_type": "markdown",
      "source": [
        "###  train-test split"
      ],
      "metadata": {
        "id": "CD-K2pwAHLAY"
      }
    },
    {
      "cell_type": "code",
      "source": [
        "from sklearn.model_selection import train_test_split\n",
        "\n",
        "X = iris.data\n",
        "y = iris.target\n",
        "\n",
        "# (80:20)으로 분할한다. \n",
        "X_train,X_test,y_train,y_test = train_test_split(X,y,test_size=0.2,random_state=4)\n",
        "\n",
        "print(X_train.shape)\n",
        "print(X_test.shape)"
      ],
      "metadata": {
        "colab": {
          "base_uri": "https://localhost:8080/"
        },
        "id": "2beiysIjFsPC",
        "outputId": "86eacd4e-8955-4fdc-b611-580f195c18ad"
      },
      "execution_count": 24,
      "outputs": [
        {
          "output_type": "stream",
          "name": "stdout",
          "text": [
            "(120, 4)\n",
            "(30, 4)\n"
          ]
        }
      ]
    },
    {
      "cell_type": "code",
      "source": [
        "y_train.shape, y_test.shape"
      ],
      "metadata": {
        "colab": {
          "base_uri": "https://localhost:8080/"
        },
        "id": "_xxY87T-IO1V",
        "outputId": "cff6bbb7-3fa8-4bfa-d986-db3a26c07224"
      },
      "execution_count": 25,
      "outputs": [
        {
          "output_type": "execute_result",
          "data": {
            "text/plain": [
              "((120,), (30,))"
            ]
          },
          "metadata": {},
          "execution_count": 25
        }
      ]
    },
    {
      "cell_type": "markdown",
      "source": [
        "### Training (학습)"
      ],
      "metadata": {
        "id": "v3I_2ccuI9Y5"
      }
    },
    {
      "cell_type": "code",
      "source": [
        "from sklearn.neighbors import KNeighborsClassifier\n",
        "\n",
        "knn = KNeighborsClassifier(n_neighbors=3)\n",
        "knn.fit(X_train, y_train)\n",
        "\n",
        "y_pred = knn.predict(X_test)"
      ],
      "metadata": {
        "id": "QjMNrAw-H45R"
      },
      "execution_count": 26,
      "outputs": []
    },
    {
      "cell_type": "code",
      "source": [
        "y_pred, y_test"
      ],
      "metadata": {
        "colab": {
          "base_uri": "https://localhost:8080/"
        },
        "id": "HwibuFrXJC-x",
        "outputId": "c443c596-f22d-4f60-c823-530acd49a8de"
      },
      "execution_count": 27,
      "outputs": [
        {
          "output_type": "execute_result",
          "data": {
            "text/plain": [
              "(array([2, 0, 2, 2, 2, 1, 2, 0, 0, 2, 0, 0, 0, 1, 2, 0, 1, 0, 0, 2, 0, 2,\n",
              "        1, 0, 0, 0, 0, 0, 0, 2]),\n",
              " array([2, 0, 2, 2, 2, 1, 1, 0, 0, 2, 0, 0, 0, 1, 2, 0, 1, 0, 0, 2, 0, 2,\n",
              "        1, 0, 0, 0, 0, 0, 0, 2]))"
            ]
          },
          "metadata": {},
          "execution_count": 27
        }
      ]
    },
    {
      "cell_type": "code",
      "source": [
        "from sklearn import metrics\n",
        "scores = metrics.accuracy_score(y_test, y_pred)\n",
        "print(scores)"
      ],
      "metadata": {
        "colab": {
          "base_uri": "https://localhost:8080/"
        },
        "id": "6mebXHGvI7Pb",
        "outputId": "15711a9d-ad59-4068-aa8a-f8b702999357"
      },
      "execution_count": 28,
      "outputs": [
        {
          "output_type": "stream",
          "name": "stdout",
          "text": [
            "0.9666666666666667\n"
          ]
        }
      ]
    },
    {
      "cell_type": "markdown",
      "source": [
        "### 세 데이터에 적용"
      ],
      "metadata": {
        "id": "9AtwyH7xJ_Ih"
      }
    },
    {
      "cell_type": "code",
      "source": [
        "#######################\n",
        "#  Test on new data\n",
        "#######################\n",
        "classes = {0:'setosa',1:'versicolor',2:'virginica'}\n",
        "\n",
        "# 전혀 보지 못한 새로운 데이터를 2개 제시해보자. \n",
        "x_new = [[3,4,5,2],\n",
        "         [5,4,2,2]]\n",
        "\n",
        "y_predict = knn.predict(x_new)\n",
        "\n",
        "print(classes[y_predict[0]])\n",
        "print(classes[y_predict[1]])"
      ],
      "metadata": {
        "colab": {
          "base_uri": "https://localhost:8080/"
        },
        "id": "IfOGMbHJJ9xZ",
        "outputId": "4ec5fba1-8f16-4af5-c31b-6f6094e1b5e8"
      },
      "execution_count": 29,
      "outputs": [
        {
          "output_type": "stream",
          "name": "stdout",
          "text": [
            "versicolor\n",
            "setosa\n"
          ]
        }
      ]
    },
    {
      "cell_type": "markdown",
      "source": [
        "### Decision boundary"
      ],
      "metadata": {
        "id": "CDK4_U8lKZlR"
      }
    },
    {
      "cell_type": "code",
      "source": [
        "!pip install mlxtend==0.21.0"
      ],
      "metadata": {
        "colab": {
          "base_uri": "https://localhost:8080/"
        },
        "id": "K0TxdCoOMXR9",
        "outputId": "964c2b07-be5c-4d9e-870b-240ecd0d0a6d"
      },
      "execution_count": 30,
      "outputs": [
        {
          "output_type": "stream",
          "name": "stdout",
          "text": [
            "Looking in indexes: https://pypi.org/simple, https://us-python.pkg.dev/colab-wheels/public/simple/\n",
            "Requirement already satisfied: mlxtend==0.21.0 in /usr/local/lib/python3.9/dist-packages (0.21.0)\n",
            "Requirement already satisfied: pandas>=0.24.2 in /usr/local/lib/python3.9/dist-packages (from mlxtend==0.21.0) (1.4.4)\n",
            "Requirement already satisfied: joblib>=0.13.2 in /usr/local/lib/python3.9/dist-packages (from mlxtend==0.21.0) (1.1.1)\n",
            "Requirement already satisfied: numpy>=1.16.2 in /usr/local/lib/python3.9/dist-packages (from mlxtend==0.21.0) (1.22.4)\n",
            "Requirement already satisfied: setuptools in /usr/local/lib/python3.9/dist-packages (from mlxtend==0.21.0) (67.6.0)\n",
            "Requirement already satisfied: matplotlib>=3.0.0 in /usr/local/lib/python3.9/dist-packages (from mlxtend==0.21.0) (3.7.1)\n",
            "Requirement already satisfied: scikit-learn>=1.0.2 in /usr/local/lib/python3.9/dist-packages (from mlxtend==0.21.0) (1.2.2)\n",
            "Requirement already satisfied: scipy>=1.2.1 in /usr/local/lib/python3.9/dist-packages (from mlxtend==0.21.0) (1.10.1)\n",
            "Requirement already satisfied: contourpy>=1.0.1 in /usr/local/lib/python3.9/dist-packages (from matplotlib>=3.0.0->mlxtend==0.21.0) (1.0.7)\n",
            "Requirement already satisfied: pyparsing>=2.3.1 in /usr/local/lib/python3.9/dist-packages (from matplotlib>=3.0.0->mlxtend==0.21.0) (3.0.9)\n",
            "Requirement already satisfied: kiwisolver>=1.0.1 in /usr/local/lib/python3.9/dist-packages (from matplotlib>=3.0.0->mlxtend==0.21.0) (1.4.4)\n",
            "Requirement already satisfied: cycler>=0.10 in /usr/local/lib/python3.9/dist-packages (from matplotlib>=3.0.0->mlxtend==0.21.0) (0.11.0)\n",
            "Requirement already satisfied: fonttools>=4.22.0 in /usr/local/lib/python3.9/dist-packages (from matplotlib>=3.0.0->mlxtend==0.21.0) (4.39.2)\n",
            "Requirement already satisfied: python-dateutil>=2.7 in /usr/local/lib/python3.9/dist-packages (from matplotlib>=3.0.0->mlxtend==0.21.0) (2.8.2)\n",
            "Requirement already satisfied: importlib-resources>=3.2.0 in /usr/local/lib/python3.9/dist-packages (from matplotlib>=3.0.0->mlxtend==0.21.0) (5.12.0)\n",
            "Requirement already satisfied: pillow>=6.2.0 in /usr/local/lib/python3.9/dist-packages (from matplotlib>=3.0.0->mlxtend==0.21.0) (8.4.0)\n",
            "Requirement already satisfied: packaging>=20.0 in /usr/local/lib/python3.9/dist-packages (from matplotlib>=3.0.0->mlxtend==0.21.0) (23.0)\n",
            "Requirement already satisfied: pytz>=2020.1 in /usr/local/lib/python3.9/dist-packages (from pandas>=0.24.2->mlxtend==0.21.0) (2022.7.1)\n",
            "Requirement already satisfied: threadpoolctl>=2.0.0 in /usr/local/lib/python3.9/dist-packages (from scikit-learn>=1.0.2->mlxtend==0.21.0) (3.1.0)\n",
            "Requirement already satisfied: zipp>=3.1.0 in /usr/local/lib/python3.9/dist-packages (from importlib-resources>=3.2.0->matplotlib>=3.0.0->mlxtend==0.21.0) (3.15.0)\n",
            "Requirement already satisfied: six>=1.5 in /usr/local/lib/python3.9/dist-packages (from python-dateutil>=2.7->matplotlib>=3.0.0->mlxtend==0.21.0) (1.16.0)\n"
          ]
        }
      ]
    },
    {
      "cell_type": "code",
      "source": [
        "############################################################\n",
        "# Decision boundary\n",
        "# from mlxtend.plotting import plot_decision_regions\n",
        "############################################################\n",
        "from mlxtend.plotting import plot_decision_regions\n",
        "import matplotlib.pyplot as plt\n",
        "# Plotting decision regions of two features\n",
        "ft_names = iris.feature_names\n",
        "two_feature_idx = [0,3]\n",
        "X2 = iris.data[:, two_feature_idx]\n",
        "y2 = iris.target\n",
        "X_train,X_test,y_train,y_test = train_test_split(X2,y2,test_size=0.2,random_state=4)\n",
        "\n",
        "knn2 = KNeighborsClassifier(n_neighbors=3)\n",
        "knn2.fit(X_train, y_train)\n",
        "\n",
        "plot_decision_regions(X2, y2, clf=knn2, legend=2)\n",
        "# Adding axes annotations\n",
        "plt.xlabel(ft_names[two_feature_idx[0]])\n",
        "plt.ylabel(ft_names[two_feature_idx[1]])\n",
        "plt.title('KNN3 on Iris')\n",
        "plt.show()"
      ],
      "metadata": {
        "colab": {
          "base_uri": "https://localhost:8080/",
          "height": 295
        },
        "id": "dbwQrQaFKWFZ",
        "outputId": "b8fa3bbc-8ad2-468c-96ca-cfea338196a5"
      },
      "execution_count": 31,
      "outputs": [
        {
          "output_type": "display_data",
          "data": {
            "text/plain": [
              "<Figure size 432x288 with 1 Axes>"
            ],
            "image/png": "[encoded data removed]"
          },
          "metadata": {
            "needs_background": "light"
          }
        }
      ]
    },
    {
      "cell_type": "code",
      "source": [
        "########################################################\n",
        "# SVM\n",
        "########################################################\n",
        "# Training a classifier\n",
        "from sklearn.svm import SVC\n",
        "\n",
        "ft_names = iris.feature_names\n",
        "two_feature_idx = [0,2]\n",
        "X2 = iris.data[:, two_feature_idx]\n",
        "y2 = iris.target\n",
        "X_train,X_test,y_train,y_test = train_test_split(X2,y2,test_size=0.2,random_state=4)\n",
        "\n",
        "svm = SVC(C=0.5, kernel='linear')\n",
        "svm.fit(X_train, y_train)\n",
        "\n",
        "plot_decision_regions(X2, y2, clf=svm, legend=2)\n",
        "# Adding axes annotations\n",
        "plt.xlabel(ft_names[two_feature_idx[0]])\n",
        "plt.ylabel(ft_names[two_feature_idx[1]])\n",
        "plt.title('SVM on Iris')\n",
        "plt.show()\n",
        "########################################################\n"
      ],
      "metadata": {
        "colab": {
          "base_uri": "https://localhost:8080/",
          "height": 295
        },
        "id": "u9A8c6PXLPxH",
        "outputId": "c7ab75e0-1157-4b72-ae24-b06e665e13e4"
      },
      "execution_count": 32,
      "outputs": [
        {
          "output_type": "display_data",
          "data": {
            "text/plain": [
              "<Figure size 432x288 with 1 Axes>"
            ],
            "image/png": "[encoded data removed]"
          },
          "metadata": {
            "needs_background": "light"
          }
        }
      ]
    },
    {
      "cell_type": "markdown",
      "source": [
        "---"
      ],
      "metadata": {
        "id": "YJmij9jnMo_E"
      }
    },
    {
      "cell_type": "markdown",
      "source": [
        "## mnist data\n",
        "- knn"
      ],
      "metadata": {
        "id": "MhHNYffsOvw5"
      }
    },
    {
      "cell_type": "markdown",
      "source": [
        "### Load digits dataset"
      ],
      "metadata": {
        "id": "HRtLF2OjO8BJ"
      }
    },
    {
      "cell_type": "code",
      "source": [
        "import matplotlib.pyplot as plt\n",
        "\n",
        "from sklearn import datasets, metrics\n",
        "from sklearn.model_selection import train_test_split\n",
        "\n",
        "digits = datasets.load_digits()\n",
        "str(digits)\n"
      ],
      "metadata": {
        "id": "e0uNWg5nMqvt",
        "outputId": "0a85c078-7dc9-49c3-fdfd-b50c9c925311",
        "colab": {
          "base_uri": "https://localhost:8080/",
          "height": 90
        }
      },
      "execution_count": 33,
      "outputs": [
        {
          "output_type": "execute_result",
          "data": {
            "text/plain": [
              "'{\\'data\\': array([[ 0.,  0.,  5., ...,  0.,  0.,  0.],\\n       [ 0.,  0.,  0., ..., 10.,  0.,  0.],\\n       [ 0.,  0.,  0., ..., 16.,  9.,  0.],\\n       ...,\\n       [ 0.,  0.,  1., ...,  6.,  0.,  0.],\\n       [ 0.,  0.,  2., ..., 12.,  0.,  0.],\\n       [ 0.,  0., 10., ..., 12.,  1.,  0.]]), \\'target\\': array([0, 1, 2, ..., 8, 9, 8]), \\'frame\\': None, \\'feature_names\\': [\\'pixel_0_0\\', \\'pixel_0_1\\', \\'pixel_0_2\\', \\'pixel_0_3\\', \\'pixel_0_4\\', \\'pixel_0_5\\', \\'pixel_0_6\\', \\'pixel_0_7\\', \\'pixel_1_0\\', \\'pixel_1_1\\', \\'pixel_1_2\\', \\'pixel_1_3\\', \\'pixel_1_4\\', \\'pixel_1_5\\', \\'pixel_1_6\\', \\'pixel_1_7\\', \\'pixel_2_0\\', \\'pixel_2_1\\', \\'pixel_2_2\\', \\'pixel_2_3\\', \\'pixel_2_4\\', \\'pixel_2_5\\', \\'pixel_2_6\\', \\'pixel_2_7\\', \\'pixel_3_0\\', \\'pixel_3_1\\', \\'pixel_3_2\\', \\'pixel_3_3\\', \\'pixel_3_4\\', \\'pixel_3_5\\', \\'pixel_3_6\\', \\'pixel_3_7\\', \\'pixel_4_0\\', \\'pixel_4_1\\', \\'pixel_4_2\\', \\'pixel_4_3\\', \\'pixel_4_4\\', \\'pixel_4_5\\', \\'pixel_4_6\\', \\'pixel_4_7\\', \\'pixel_5_0\\', \\'pixel_5_1\\', \\'pixel_5_2\\', \\'pixel_5_3\\', \\'pixel_5_4\\', \\'pixel_5_5\\', \\'pixel_5_6\\', \\'pixel_5_7\\', \\'pixel_6_0\\', \\'pixel_6_1\\', \\'pixel_6_2\\', \\'pixel_6_3\\', \\'pixel_6_4\\', \\'pixel_6_5\\', \\'pixel_6_6\\', \\'pixel_6_7\\', \\'pixel_7_0\\', \\'pixel_7_1\\', \\'pixel_7_2\\', \\'pixel_7_3\\', \\'pixel_7_4\\', \\'pixel_7_5\\', \\'pixel_7_6\\', \\'pixel_7_7\\'], \\'target_names\\': array([0, 1, 2, 3, 4, 5, 6, 7, 8, 9]), \\'images\\': array([[[ 0.,  0.,  5., ...,  1.,  0.,  0.],\\n        [ 0.,  0., 13., ..., 15.,  5.,  0.],\\n        [ 0.,  3., 15., ..., 11.,  8.,  0.],\\n        ...,\\n        [ 0.,  4., 11., ..., 12.,  7.,  0.],\\n        [ 0.,  2., 14., ..., 12.,  0.,  0.],\\n        [ 0.,  0.,  6., ...,  0.,  0.,  0.]],\\n\\n       [[ 0.,  0.,  0., ...,  5.,  0.,  0.],\\n        [ 0.,  0.,  0., ...,  9.,  0.,  0.],\\n        [ 0.,  0.,  3., ...,  6.,  0.,  0.],\\n        ...,\\n        [ 0.,  0.,  1., ...,  6.,  0.,  0.],\\n        [ 0.,  0.,  1., ...,  6.,  0.,  0.],\\n        [ 0.,  0.,  0., ..., 10.,  0.,  0.]],\\n\\n       [[ 0.,  0.,  0., ..., 12.,  0.,  0.],\\n        [ 0.,  0.,  3., ..., 14.,  0.,  0.],\\n        [ 0.,  0.,  8., ..., 16.,  0.,  0.],\\n        ...,\\n        [ 0.,  9., 16., ...,  0.,  0.,  0.],\\n        [ 0.,  3., 13., ..., 11.,  5.,  0.],\\n        [ 0.,  0.,  0., ..., 16.,  9.,  0.]],\\n\\n       ...,\\n\\n       [[ 0.,  0.,  1., ...,  1.,  0.,  0.],\\n        [ 0.,  0., 13., ...,  2.,  1.,  0.],\\n        [ 0.,  0., 16., ..., 16.,  5.,  0.],\\n        ...,\\n        [ 0.,  0., 16., ..., 15.,  0.,  0.],\\n        [ 0.,  0., 15., ..., 16.,  0.,  0.],\\n        [ 0.,  0.,  2., ...,  6.,  0.,  0.]],\\n\\n       [[ 0.,  0.,  2., ...,  0.,  0.,  0.],\\n        [ 0.,  0., 14., ..., 15.,  1.,  0.],\\n        [ 0.,  4., 16., ..., 16.,  7.,  0.],\\n        ...,\\n        [ 0.,  0.,  0., ..., 16.,  2.,  0.],\\n        [ 0.,  0.,  4., ..., 16.,  2.,  0.],\\n        [ 0.,  0.,  5., ..., 12.,  0.,  0.]],\\n\\n       [[ 0.,  0., 10., ...,  1.,  0.,  0.],\\n        [ 0.,  2., 16., ...,  1.,  0.,  0.],\\n        [ 0.,  0., 15., ..., 15.,  0.,  0.],\\n        ...,\\n        [ 0.,  4., 16., ..., 16.,  6.,  0.],\\n        [ 0.,  8., 16., ..., 16.,  8.,  0.],\\n        [ 0.,  1.,  8., ..., 12.,  1.,  0.]]]), \\'DESCR\\': \".. _digits_dataset:\\\\n\\\\nOptical recognition of handwritten digits dataset\\\\n--------------------------------------------------\\\\n\\\\n**Data Set Characteristics:**\\\\n\\\\n    :Number of Instances: 1797\\\\n    :Number of Attributes: 64\\\\n    :Attribute Information: 8x8 image of integer pixels in the range 0..16.\\\\n    :Missing Attribute Values: None\\\\n    :Creator: E. Alpaydin (alpaydin \\'@\\' boun.edu.tr)\\\\n    :Date: July; 1998\\\\n\\\\nThis is a copy of the test set of the UCI ML hand-written digits datasets\\\\nhttps://archive.ics.uci.edu/ml/datasets/Optical+Recognition+of+Handwritten+Digits\\\\n\\\\nThe data set contains images of hand-written digits: 10 classes where\\\\neach class refers to a digit.\\\\n\\\\nPreprocessing programs made available by NIST were used to extract\\\\nnormalized bitmaps of handwritten digits from a preprinted form. From a\\\\ntotal of 43 people, 30 contributed to the training set and different 13\\\\nto the test set. 32x32 bitmaps are divided into nonoverlapping blocks of\\\\n4x4 and the number of on pixels are counted in each block. This generates\\\\nan input matrix of 8x8 where each element is an integer in the range\\\\n0..16. This reduces dimensionality and gives invariance to small\\\\ndistortions.\\\\n\\\\nFor info on NIST preprocessing routines, see M. D. Garris, J. L. Blue, G.\\\\nT. Candela, D. L. Dimmick, J. Geist, P. J. Grother, S. A. Janet, and C.\\\\nL. Wilson, NIST Form-Based Handprint Recognition System, NISTIR 5469,\\\\n1994.\\\\n\\\\n.. topic:: References\\\\n\\\\n  - C. Kaynak (1995) Methods of Combining Multiple Classifiers and Their\\\\n    Applications to Handwritten Digit Recognition, MSc Thesis, Institute of\\\\n    Graduate Studies in Science and Engineering, Bogazici University.\\\\n  - E. Alpaydin, C. Kaynak (1998) Cascading Classifiers, Kybernetika.\\\\n  - Ken Tang and Ponnuthurai N. Suganthan and Xi Yao and A. Kai Qin.\\\\n    Linear dimensionalityreduction using relevance weighted LDA. School of\\\\n    Electrical and Electronic Engineering Nanyang Technological University.\\\\n    2005.\\\\n  - Claudio Gentile. A New Approximate Maximal Margin Classification\\\\n    Algorithm. NIPS. 2000.\\\\n\"}'"
            ],
            "application/vnd.google.colaboratory.intrinsic+json": {
              "type": "string"
            }
          },
          "metadata": {},
          "execution_count": 33
        }
      ]
    },
    {
      "cell_type": "code",
      "source": [
        "digits.data.shape, digits.target.shape"
      ],
      "metadata": {
        "id": "YGLIBcsJPl7H",
        "outputId": "a3465b82-af4f-45d0-ae1e-4d18a716fe16",
        "colab": {
          "base_uri": "https://localhost:8080/"
        }
      },
      "execution_count": 34,
      "outputs": [
        {
          "output_type": "execute_result",
          "data": {
            "text/plain": [
              "((1797, 64), (1797,))"
            ]
          },
          "metadata": {},
          "execution_count": 34
        }
      ]
    },
    {
      "cell_type": "code",
      "source": [
        "digits.target[:20]"
      ],
      "metadata": {
        "id": "s6mKENZ_P6aY",
        "outputId": "b74521d7-d7c3-4dee-c547-9d3248df9f6e",
        "colab": {
          "base_uri": "https://localhost:8080/"
        }
      },
      "execution_count": 35,
      "outputs": [
        {
          "output_type": "execute_result",
          "data": {
            "text/plain": [
              "array([0, 1, 2, 3, 4, 5, 6, 7, 8, 9, 0, 1, 2, 3, 4, 5, 6, 7, 8, 9])"
            ]
          },
          "metadata": {},
          "execution_count": 35
        }
      ]
    },
    {
      "cell_type": "code",
      "source": [
        "digits.images.shape, digits.data.shape"
      ],
      "metadata": {
        "id": "byBiL8PdQPyI",
        "outputId": "01bab7df-74ad-4a1c-b49e-44cc67882bc3",
        "colab": {
          "base_uri": "https://localhost:8080/"
        }
      },
      "execution_count": 36,
      "outputs": [
        {
          "output_type": "execute_result",
          "data": {
            "text/plain": [
              "((1797, 8, 8), (1797, 64))"
            ]
          },
          "metadata": {},
          "execution_count": 36
        }
      ]
    },
    {
      "cell_type": "code",
      "source": [
        "plt.imshow(digits.images[0], cmap=plt.cm.gray_r, interpolation='nearest')\n",
        "plt.show()\n",
        "# digits.images.shape"
      ],
      "metadata": {
        "id": "xLr6oNY1O4xJ",
        "outputId": "a8c2e6e3-4fa9-464a-f775-4a249a0831d4",
        "colab": {
          "base_uri": "https://localhost:8080/",
          "height": 265
        }
      },
      "execution_count": 37,
      "outputs": [
        {
          "output_type": "display_data",
          "data": {
            "text/plain": [
              "<Figure size 432x288 with 1 Axes>"
            ],
            "image/png": "[encoded data removed]"
          },
          "metadata": {
            "needs_background": "light"
          }
        }
      ]
    },
    {
      "cell_type": "code",
      "source": [
        "digits.images.shape, len(digits.images)"
      ],
      "metadata": {
        "id": "x3rOI8iqROFO",
        "outputId": "01867f92-7b6d-4825-b623-c535651d9a68",
        "colab": {
          "base_uri": "https://localhost:8080/"
        }
      },
      "execution_count": 38,
      "outputs": [
        {
          "output_type": "execute_result",
          "data": {
            "text/plain": [
              "((1797, 8, 8), 1797)"
            ]
          },
          "metadata": {},
          "execution_count": 38
        }
      ]
    },
    {
      "cell_type": "code",
      "source": [
        "n_samples = len(digits.images)\n",
        "digits.images.shape\n",
        "# Flattening (평탄화) : (8, 8) => (64,)\n",
        "data = digits.images.reshape((n_samples, -1))\n",
        "# data.shape"
      ],
      "metadata": {
        "id": "AuuOZuYnQwf6"
      },
      "execution_count": 39,
      "outputs": []
    },
    {
      "cell_type": "code",
      "source": [
        "from sklearn.neighbors import KNeighborsClassifier\n",
        "\n",
        "knn = KNeighborsClassifier(n_neighbors=6)\n",
        "\n",
        "X_train, X_test, y_train, y_test = train_test_split(\n",
        "    data, digits.target, test_size=0.2)\n",
        "\n",
        "knn.fit(X_train, y_train)\n",
        "\n",
        "y_pred = knn.predict(X_test)\n",
        "\n",
        "scores = metrics.accuracy_score(y_test, y_pred)\n",
        "print(scores)"
      ],
      "metadata": {
        "id": "wrx7GmPRR6di",
        "outputId": "687ce8e2-5271-4645-ae1d-56cc63a31ea6",
        "colab": {
          "base_uri": "https://localhost:8080/"
        }
      },
      "execution_count": 40,
      "outputs": [
        {
          "output_type": "stream",
          "name": "stdout",
          "text": [
            "0.9805555555555555\n"
          ]
        }
      ]
    },
    {
      "cell_type": "code",
      "source": [
        "idx = 50\n",
        "plt.imshow(X_test[idx].reshape(8,8), cmap=plt.cm.gray_r, interpolation='nearest')\n",
        "y_pred = knn.predict([X_test[idx]])\n",
        "print(y_test[idx],y_pred)"
      ],
      "metadata": {
        "id": "1AwBhHCHS8cM",
        "outputId": "2ae5f8f3-0ae5-46d1-9d58-f57842ab31bf",
        "colab": {
          "base_uri": "https://localhost:8080/",
          "height": 283
        }
      },
      "execution_count": 41,
      "outputs": [
        {
          "output_type": "stream",
          "name": "stdout",
          "text": [
            "5 [5]\n"
          ]
        },
        {
          "output_type": "display_data",
          "data": {
            "text/plain": [
              "<Figure size 432x288 with 1 Axes>"
            ],
            "image/png": "[encoded data removed]"
          },
          "metadata": {
            "needs_background": "light"
          }
        }
      ]
    },
    {
      "cell_type": "code",
      "source": [
        "#####################################################\n",
        "# DIY : Search the best hyperparameter: n_neighbors\n",
        "#####################################################\n",
        "scores = []\n",
        "for kn in range(2,11):\n",
        "    knn = KNeighborsClassifier(n_neighbors=kn)\n",
        "    knn.fit(X_train, y_train)\n",
        "    y_pred = knn.predict(X_test)\n",
        "    score = metrics.accuracy_score(y_test, y_pred)\n",
        "    scores.append(score)\n",
        "\n",
        "scores\n",
        "\n",
        "# Plot scores w.r.t. n_neighbors\n",
        "plt.bar(range(2,11), scores)\n",
        "# plt.ylim((0.95,1))\n",
        "plt.show()\n",
        "\n",
        "plt.plot(range(2,11), scores,'ro-', ms=12)\n",
        "# plt.ylim((0.95,1))\n",
        "plt.show()"
      ],
      "metadata": {
        "id": "u0-kCPcCS0hc",
        "outputId": "c68b9f23-9144-4a12-9f77-4a7947e90d8d",
        "colab": {
          "base_uri": "https://localhost:8080/",
          "height": 513
        }
      },
      "execution_count": 51,
      "outputs": [
        {
          "output_type": "display_data",
          "data": {
            "text/plain": [
              "<Figure size 432x288 with 1 Axes>"
            ],
            "image/png": "[encoded data removed]"
          },
          "metadata": {
            "needs_background": "light"
          }
        },
        {
          "output_type": "display_data",
          "data": {
            "text/plain": [
              "<Figure size 432x288 with 1 Axes>"
            ],
            "image/png": "[encoded data removed]"
          },
          "metadata": {
            "needs_background": "light"
          }
        }
      ]
    },
    {
      "cell_type": "markdown",
      "source": [
        "## 혼동행령 (confusion matrix)"
      ],
      "metadata": {
        "id": "mbdm8eBO1FMx"
      }
    },
    {
      "cell_type": "code",
      "source": [
        "!pip install scikit-learn==1.0.2"
      ],
      "metadata": {
        "id": "tXkTT_LO2zWS",
        "outputId": "78dcda87-1801-49eb-ec43-b58d36f643f9",
        "colab": {
          "base_uri": "https://localhost:8080/",
          "height": 364
        }
      },
      "execution_count": 60,
      "outputs": [
        {
          "output_type": "stream",
          "name": "stdout",
          "text": [
            "Looking in indexes: https://pypi.org/simple, https://us-python.pkg.dev/colab-wheels/public/simple/\n",
            "Collecting scikit-learn==1.0.2\n",
            "  Downloading scikit_learn-1.0.2-cp39-cp39-manylinux_2_17_x86_64.manylinux2014_x86_64.whl (26.4 MB)\n",
            "\u001b[2K     \u001b[90m━━━━━━━━━━━━━━━━━━━━━━━━━━━━━━━━━━━━━━━━\u001b[0m \u001b[32m26.4/26.4 MB\u001b[0m \u001b[31m46.7 MB/s\u001b[0m eta \u001b[36m0:00:00\u001b[0m\n",
            "\u001b[?25hRequirement already satisfied: threadpoolctl>=2.0.0 in /usr/local/lib/python3.9/dist-packages (from scikit-learn==1.0.2) (3.1.0)\n",
            "Requirement already satisfied: scipy>=1.1.0 in /usr/local/lib/python3.9/dist-packages (from scikit-learn==1.0.2) (1.10.1)\n",
            "Requirement already satisfied: joblib>=0.11 in /usr/local/lib/python3.9/dist-packages (from scikit-learn==1.0.2) (1.1.1)\n",
            "Requirement already satisfied: numpy>=1.14.6 in /usr/local/lib/python3.9/dist-packages (from scikit-learn==1.0.2) (1.22.4)\n",
            "Installing collected packages: scikit-learn\n",
            "  Attempting uninstall: scikit-learn\n",
            "    Found existing installation: scikit-learn 1.2.2\n",
            "    Uninstalling scikit-learn-1.2.2:\n",
            "      Successfully uninstalled scikit-learn-1.2.2\n",
            "Successfully installed scikit-learn-1.0.2\n"
          ]
        },
        {
          "output_type": "display_data",
          "data": {
            "application/vnd.colab-display-data+json": {
              "pip_warning": {
                "packages": [
                  "sklearn"
                ]
              }
            }
          },
          "metadata": {}
        }
      ]
    },
    {
      "cell_type": "code",
      "source": [
        "import matplotlib.pyplot as plt\n",
        "\n",
        "from sklearn import datasets, metrics\n",
        "from sklearn.model_selection import train_test_split\n",
        "\n",
        "digits = datasets.load_digits()\n",
        "# str(digits)\n",
        "# digits.data.shape\n",
        "# digits.images.shape\n",
        "# digits.target.shape\n",
        "n_samples = len(digits.images)\n",
        "data = digits.images.reshape((n_samples, -1))\n",
        "\n",
        "from sklearn.neighbors import KNeighborsClassifier\n",
        "knn = KNeighborsClassifier(n_neighbors=3)\n",
        "\n",
        "X_train, X_test, y_train, y_test = train_test_split(\n",
        "    data, digits.target, test_size=0.2)\n",
        "\n",
        "knn.fit(X_train, y_train)\n",
        "y_pred = knn.predict(X_test)"
      ],
      "metadata": {
        "id": "d0UT9O7t1Dby",
        "outputId": "9ddbce01-f649-4ace-db91-238889a3e11e",
        "colab": {
          "base_uri": "https://localhost:8080/"
        }
      },
      "execution_count": 6,
      "outputs": [
        {
          "output_type": "stream",
          "name": "stderr",
          "text": [
            "/usr/local/lib/python3.9/dist-packages/sklearn/neighbors/_classification.py:228: FutureWarning: Unlike other reduction functions (e.g. `skew`, `kurtosis`), the default behavior of `mode` typically preserves the axis it acts along. In SciPy 1.11.0, this behavior will change: the default value of `keepdims` will become False, the `axis` over which the statistic is taken will be eliminated, and the value None will no longer be accepted. Set `keepdims` to True or False to avoid this warning.\n",
            "  mode, _ = stats.mode(_y[neigh_ind, k], axis=1)\n"
          ]
        }
      ]
    },
    {
      "cell_type": "code",
      "source": [
        "##############################################################\n",
        "# confusion matrix\n",
        "# https://namu.wiki/w/%ED%98%BC%EB%8F%99%ED%96%89%EB%A0%AC\n",
        "# https://blog.naver.com/tommybee/222663277170\n",
        "##############################################################\n",
        "\n",
        "disp = metrics.plot_confusion_matrix(knn, X_test, y_test)\n",
        "plt.show()"
      ],
      "metadata": {
        "id": "kQfpFElB1Wso",
        "outputId": "87eade88-35c6-444e-c1d9-a54b5ae7b6c1",
        "colab": {
          "base_uri": "https://localhost:8080/",
          "height": 372
        }
      },
      "execution_count": 5,
      "outputs": [
        {
          "output_type": "stream",
          "name": "stderr",
          "text": [
            "/usr/local/lib/python3.9/dist-packages/sklearn/utils/deprecation.py:87: FutureWarning: Function plot_confusion_matrix is deprecated; Function `plot_confusion_matrix` is deprecated in 1.0 and will be removed in 1.2. Use one of the class methods: ConfusionMatrixDisplay.from_predictions or ConfusionMatrixDisplay.from_estimator.\n",
            "  warnings.warn(msg, category=FutureWarning)\n",
            "/usr/local/lib/python3.9/dist-packages/sklearn/neighbors/_classification.py:228: FutureWarning: Unlike other reduction functions (e.g. `skew`, `kurtosis`), the default behavior of `mode` typically preserves the axis it acts along. In SciPy 1.11.0, this behavior will change: the default value of `keepdims` will become False, the `axis` over which the statistic is taken will be eliminated, and the value None will no longer be accepted. Set `keepdims` to True or False to avoid this warning.\n",
            "  mode, _ = stats.mode(_y[neigh_ind, k], axis=1)\n"
          ]
        },
        {
          "output_type": "display_data",
          "data": {
            "text/plain": [
              "<Figure size 432x288 with 2 Axes>"
            ],
            "image/png": "[encoded data removed]"
          },
          "metadata": {
            "needs_background": "light"
          }
        }
      ]
    },
    {
      "cell_type": "code",
      "source": [
        "print(f\"{metrics.classification_report(y_test, y_pred)}\\n\")\n",
        "\n",
        "#\n",
        "# [DIY] n_neighbors = 3, 6일때의 혼동행렬을 구하고 비교하시오.\n",
        "#\n"
      ],
      "metadata": {
        "id": "6_hFKn312Cns",
        "outputId": "420ffc05-c7ab-4f0e-dc90-563fc82ef319",
        "colab": {
          "base_uri": "https://localhost:8080/"
        }
      },
      "execution_count": 7,
      "outputs": [
        {
          "output_type": "stream",
          "name": "stdout",
          "text": [
            "              precision    recall  f1-score   support\n",
            "\n",
            "           0       1.00      1.00      1.00        38\n",
            "           1       0.97      1.00      0.99        34\n",
            "           2       1.00      1.00      1.00        36\n",
            "           3       0.97      0.97      0.97        35\n",
            "           4       1.00      0.97      0.99        35\n",
            "           5       1.00      0.94      0.97        34\n",
            "           6       0.98      1.00      0.99        40\n",
            "           7       0.93      1.00      0.96        27\n",
            "           8       0.97      0.97      0.97        33\n",
            "           9       0.98      0.96      0.97        48\n",
            "\n",
            "    accuracy                           0.98       360\n",
            "   macro avg       0.98      0.98      0.98       360\n",
            "weighted avg       0.98      0.98      0.98       360\n",
            "\n",
            "\n"
          ]
        }
      ]
    }
  ]
}