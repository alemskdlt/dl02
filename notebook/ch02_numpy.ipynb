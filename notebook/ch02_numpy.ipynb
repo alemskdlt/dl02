{
  "nbformat": 4,
  "nbformat_minor": 0,
  "metadata": {
    "colab": {
      "provenance": [],
      "authorship_tag": "ABX9TyNXvFHrUPd/+NiLNTuWBlPS",
      "include_colab_link": true
    },
    "kernelspec": {
      "name": "python3",
      "display_name": "Python 3"
    },
    "language_info": {
      "name": "python"
    }
  },
  "cells": [
    {
      "cell_type": "markdown",
      "metadata": {
        "id": "view-in-github",
        "colab_type": "text"
      },
      "source": [
        "<a href=\"https://colab.research.google.com/github/alemskdlt/dl02/blob/main/notebook/ch02_numpy.ipynb\" target=\"_parent\"><img src=\"https://colab.research.google.com/assets/colab-badge.svg\" alt=\"Open In Colab\"/></a>"
      ]
    },
    {
      "cell_type": "markdown",
      "source": [
        "# ch02_numpy.ipynb\n",
        "- numpy 공부\n"
      ],
      "metadata": {
        "id": "Jl7jVcqBJBpQ"
      }
    },
    {
      "cell_type": "code",
      "execution_count": 1,
      "metadata": {
        "id": "ssDATcgfI-WT"
      },
      "outputs": [],
      "source": [
        "# chap02 - numpy\n",
        "import numpy as np"
      ]
    },
    {
      "cell_type": "code",
      "source": [
        "# ndarray\n",
        "a = np.array([1, 2, 3])\n",
        "\n",
        "print(a[0])\n",
        "a, type(a)"
      ],
      "metadata": {
        "colab": {
          "base_uri": "https://localhost:8080/"
        },
        "id": "gPcOTDroJbGu",
        "outputId": "6de45b13-d977-45d2-b63c-48de2227932a"
      },
      "execution_count": 4,
      "outputs": [
        {
          "output_type": "stream",
          "name": "stdout",
          "text": [
            "1\n"
          ]
        },
        {
          "output_type": "execute_result",
          "data": {
            "text/plain": [
              "(array([1, 2, 3]), numpy.ndarray)"
            ]
          },
          "metadata": {},
          "execution_count": 4
        }
      ]
    },
    {
      "cell_type": "code",
      "source": [
        "b = np.array([[1, 2, 3], [4, 5, 6], [7, 8, 9]])\n",
        "\n",
        "print(b)\n",
        "\n",
        "b[0][2]"
      ],
      "metadata": {
        "colab": {
          "base_uri": "https://localhost:8080/"
        },
        "id": "U50r9eGWJl6R",
        "outputId": "0699f9d4-9662-46a0-8f04-74d81b211ef8"
      },
      "execution_count": 6,
      "outputs": [
        {
          "output_type": "stream",
          "name": "stdout",
          "text": [
            "[[1 2 3]\n",
            " [4 5 6]\n",
            " [7 8 9]]\n"
          ]
        },
        {
          "output_type": "execute_result",
          "data": {
            "text/plain": [
              "3"
            ]
          },
          "metadata": {},
          "execution_count": 6
        }
      ]
    },
    {
      "cell_type": "code",
      "source": [
        "a = np.array([[ 0, 1, 2],\n",
        " \t\t[ 3, 4, 5],\n",
        "\t\t[ 6, 7, 8]])\n",
        "\n",
        "a.shape, a.ndim, a.dtype, a.itemsize, a.size          # 8byte 정수형 사용 = int64"
      ],
      "metadata": {
        "colab": {
          "base_uri": "https://localhost:8080/"
        },
        "id": "N4ILYVPcKHWP",
        "outputId": "96242908-d07c-4571-8345-340069b9c82b"
      },
      "execution_count": 8,
      "outputs": [
        {
          "output_type": "execute_result",
          "data": {
            "text/plain": [
              "((3, 3), 2, dtype('int64'), 8, 9)"
            ]
          },
          "metadata": {},
          "execution_count": 8
        }
      ]
    },
    {
      "cell_type": "code",
      "source": [
        "np.zeros( (3, 4) )\t"
      ],
      "metadata": {
        "colab": {
          "base_uri": "https://localhost:8080/"
        },
        "id": "gWgKjDXEKWWy",
        "outputId": "1bcffeaf-4865-4292-8993-e265d065d386"
      },
      "execution_count": 9,
      "outputs": [
        {
          "output_type": "execute_result",
          "data": {
            "text/plain": [
              "array([[0., 0., 0., 0.],\n",
              "       [0., 0., 0., 0.],\n",
              "       [0., 0., 0., 0.]])"
            ]
          },
          "metadata": {},
          "execution_count": 9
        }
      ]
    },
    {
      "cell_type": "code",
      "source": [
        "np.ones( (3, 4), dtype=np.int32 )"
      ],
      "metadata": {
        "colab": {
          "base_uri": "https://localhost:8080/"
        },
        "id": "pZjctc9wK6_r",
        "outputId": "05cf1b6f-cf3c-4b70-e1eb-2f34d3e7bd88"
      },
      "execution_count": 15,
      "outputs": [
        {
          "output_type": "execute_result",
          "data": {
            "text/plain": [
              "array([[1, 1, 1, 1],\n",
              "       [1, 1, 1, 1],\n",
              "       [1, 1, 1, 1]], dtype=int32)"
            ]
          },
          "metadata": {},
          "execution_count": 15
        }
      ]
    },
    {
      "cell_type": "code",
      "source": [
        "np.eye(3)"
      ],
      "metadata": {
        "colab": {
          "base_uri": "https://localhost:8080/"
        },
        "id": "2cWhjIJzK75z",
        "outputId": "17ee6c75-7bf2-42e3-f838-614c986d561e"
      },
      "execution_count": 11,
      "outputs": [
        {
          "output_type": "execute_result",
          "data": {
            "text/plain": [
              "array([[1., 0., 0.],\n",
              "       [0., 1., 0.],\n",
              "       [0., 0., 1.]])"
            ]
          },
          "metadata": {},
          "execution_count": 11
        }
      ]
    },
    {
      "cell_type": "code",
      "source": [
        "x = np.ones(5, dtype=np.int64)\n",
        "\n",
        "x"
      ],
      "metadata": {
        "colab": {
          "base_uri": "https://localhost:8080/"
        },
        "id": "9ZzZijtEK5Jo",
        "outputId": "8357b81e-2855-4338-9a63-f7e48fb311e7"
      },
      "execution_count": 16,
      "outputs": [
        {
          "output_type": "execute_result",
          "data": {
            "text/plain": [
              "array([1, 1, 1, 1, 1])"
            ]
          },
          "metadata": {},
          "execution_count": 16
        }
      ]
    },
    {
      "cell_type": "code",
      "source": [
        "np.arange(5)\n",
        "print(np.arange(5))"
      ],
      "metadata": {
        "colab": {
          "base_uri": "https://localhost:8080/"
        },
        "id": "G45-6iToLzNT",
        "outputId": "8daa0a2a-82b2-43e6-98a7-686bda6a37ad"
      },
      "execution_count": 21,
      "outputs": [
        {
          "output_type": "stream",
          "name": "stdout",
          "text": [
            "[0 1 2 3 4]\n"
          ]
        }
      ]
    },
    {
      "cell_type": "code",
      "source": [
        "np.arange(1, 6)"
      ],
      "metadata": {
        "colab": {
          "base_uri": "https://localhost:8080/"
        },
        "id": "2Q2Mz3h1MAAH",
        "outputId": "0cafe923-0d6c-4c0c-aed9-8d9938c0bbd0"
      },
      "execution_count": 18,
      "outputs": [
        {
          "output_type": "execute_result",
          "data": {
            "text/plain": [
              "array([1, 2, 3, 4, 5])"
            ]
          },
          "metadata": {},
          "execution_count": 18
        }
      ]
    },
    {
      "cell_type": "code",
      "source": [
        "np.arange(1, 10, 2)"
      ],
      "metadata": {
        "colab": {
          "base_uri": "https://localhost:8080/"
        },
        "id": "W_QJGg7VL9TX",
        "outputId": "301170f8-f6d2-4cb2-f2e1-53e3e12a2ca3"
      },
      "execution_count": 19,
      "outputs": [
        {
          "output_type": "execute_result",
          "data": {
            "text/plain": [
              "array([1, 3, 5, 7, 9])"
            ]
          },
          "metadata": {},
          "execution_count": 19
        }
      ]
    },
    {
      "cell_type": "code",
      "source": [
        "np.linspace(0, 10, 101)"
      ],
      "metadata": {
        "colab": {
          "base_uri": "https://localhost:8080/"
        },
        "id": "9SIhU-G2L7cA",
        "outputId": "835eb762-ec93-4eee-8119-266e8486f13b"
      },
      "execution_count": 22,
      "outputs": [
        {
          "output_type": "execute_result",
          "data": {
            "text/plain": [
              "array([ 0. ,  0.1,  0.2,  0.3,  0.4,  0.5,  0.6,  0.7,  0.8,  0.9,  1. ,\n",
              "        1.1,  1.2,  1.3,  1.4,  1.5,  1.6,  1.7,  1.8,  1.9,  2. ,  2.1,\n",
              "        2.2,  2.3,  2.4,  2.5,  2.6,  2.7,  2.8,  2.9,  3. ,  3.1,  3.2,\n",
              "        3.3,  3.4,  3.5,  3.6,  3.7,  3.8,  3.9,  4. ,  4.1,  4.2,  4.3,\n",
              "        4.4,  4.5,  4.6,  4.7,  4.8,  4.9,  5. ,  5.1,  5.2,  5.3,  5.4,\n",
              "        5.5,  5.6,  5.7,  5.8,  5.9,  6. ,  6.1,  6.2,  6.3,  6.4,  6.5,\n",
              "        6.6,  6.7,  6.8,  6.9,  7. ,  7.1,  7.2,  7.3,  7.4,  7.5,  7.6,\n",
              "        7.7,  7.8,  7.9,  8. ,  8.1,  8.2,  8.3,  8.4,  8.5,  8.6,  8.7,\n",
              "        8.8,  8.9,  9. ,  9.1,  9.2,  9.3,  9.4,  9.5,  9.6,  9.7,  9.8,\n",
              "        9.9, 10. ])"
            ]
          },
          "metadata": {},
          "execution_count": 22
        }
      ]
    },
    {
      "cell_type": "code",
      "source": [
        "# array\n",
        "arr = np.array([2, 1, 5, 3, 7, 4, 6, 8])\n",
        "\n",
        "np.sort(arr)"
      ],
      "metadata": {
        "colab": {
          "base_uri": "https://localhost:8080/"
        },
        "id": "7mkBVFv8MCZP",
        "outputId": "1341dbc8-edac-4ebd-a091-79ed3ffc720b"
      },
      "execution_count": 23,
      "outputs": [
        {
          "output_type": "execute_result",
          "data": {
            "text/plain": [
              "array([1, 2, 3, 4, 5, 6, 7, 8])"
            ]
          },
          "metadata": {},
          "execution_count": 23
        }
      ]
    },
    {
      "cell_type": "code",
      "source": [
        "# 배열 합치기\n",
        "x = np.array([[1, 2], [3, 4]])\n",
        "\n",
        "y = np.array([[5, 6], [7, 8]])\n",
        "x, y"
      ],
      "metadata": {
        "colab": {
          "base_uri": "https://localhost:8080/"
        },
        "id": "1Eajal_6Mj3x",
        "outputId": "4c82666a-3e40-4994-98d8-4f9319ed65c6"
      },
      "execution_count": 25,
      "outputs": [
        {
          "output_type": "execute_result",
          "data": {
            "text/plain": [
              "(array([[1, 2],\n",
              "        [3, 4]]), array([[5, 6],\n",
              "        [7, 8]]))"
            ]
          },
          "metadata": {},
          "execution_count": 25
        }
      ]
    },
    {
      "cell_type": "code",
      "source": [
        "np.concatenate((x, y), axis=0)\n"
      ],
      "metadata": {
        "colab": {
          "base_uri": "https://localhost:8080/"
        },
        "id": "_TawC34CMsWB",
        "outputId": "bd4b9550-7c9b-48a6-b66e-230d0cda92e9"
      },
      "execution_count": 32,
      "outputs": [
        {
          "output_type": "execute_result",
          "data": {
            "text/plain": [
              "array([[1, 2],\n",
              "       [3, 4],\n",
              "       [5, 6],\n",
              "       [7, 8]])"
            ]
          },
          "metadata": {},
          "execution_count": 32
        }
      ]
    },
    {
      "cell_type": "code",
      "source": [
        "np.concatenate((x, y), axis=1)"
      ],
      "metadata": {
        "colab": {
          "base_uri": "https://localhost:8080/"
        },
        "id": "5k-_AfEiNNYA",
        "outputId": "b5af314c-493e-4740-dad8-263cced738b4"
      },
      "execution_count": 31,
      "outputs": [
        {
          "output_type": "execute_result",
          "data": {
            "text/plain": [
              "array([[1, 2, 5, 6],\n",
              "       [3, 4, 7, 8]])"
            ]
          },
          "metadata": {},
          "execution_count": 31
        }
      ]
    },
    {
      "cell_type": "code",
      "source": [
        "np.vstack((x, y))"
      ],
      "metadata": {
        "colab": {
          "base_uri": "https://localhost:8080/"
        },
        "id": "j3L2RKKnNOmt",
        "outputId": "bf86ef2a-ce8b-4b1c-acb9-4ca08363b950"
      },
      "execution_count": 29,
      "outputs": [
        {
          "output_type": "execute_result",
          "data": {
            "text/plain": [
              "array([[1, 2],\n",
              "       [3, 4],\n",
              "       [5, 6],\n",
              "       [7, 8]])"
            ]
          },
          "metadata": {},
          "execution_count": 29
        }
      ]
    },
    {
      "cell_type": "code",
      "source": [
        "np.hstack((x, y))"
      ],
      "metadata": {
        "colab": {
          "base_uri": "https://localhost:8080/"
        },
        "id": "YBfZmMhLNPTd",
        "outputId": "a430a5cd-8a66-4753-f29f-339a45adac8a"
      },
      "execution_count": 30,
      "outputs": [
        {
          "output_type": "execute_result",
          "data": {
            "text/plain": [
              "array([[1, 2, 5, 6],\n",
              "       [3, 4, 7, 8]])"
            ]
          },
          "metadata": {},
          "execution_count": 30
        }
      ]
    },
    {
      "cell_type": "code",
      "source": [
        "# reshape\n",
        "a = np.arange(12)\n",
        "\n",
        "a.shape"
      ],
      "metadata": {
        "colab": {
          "base_uri": "https://localhost:8080/"
        },
        "id": "a_JyNvU4M3Fs",
        "outputId": "319b6cbf-2574-4881-dd1c-7bd31ee0ff65"
      },
      "execution_count": 33,
      "outputs": [
        {
          "output_type": "execute_result",
          "data": {
            "text/plain": [
              "(12,)"
            ]
          },
          "metadata": {},
          "execution_count": 33
        }
      ]
    },
    {
      "cell_type": "code",
      "source": [
        "#a.reshape(3, 4)\n",
        "\n",
        "#a.reshape(6, -1)\n",
        "\n",
        "a.reshape(-1,6)"
      ],
      "metadata": {
        "colab": {
          "base_uri": "https://localhost:8080/"
        },
        "id": "MLnxi830NXyd",
        "outputId": "8bb4df3a-011d-4687-b34f-e3411dd04695"
      },
      "execution_count": 37,
      "outputs": [
        {
          "output_type": "execute_result",
          "data": {
            "text/plain": [
              "array([[ 0,  1,  2,  3,  4,  5],\n",
              "       [ 6,  7,  8,  9, 10, 11]])"
            ]
          },
          "metadata": {},
          "execution_count": 37
        }
      ]
    },
    {
      "cell_type": "code",
      "source": [
        "array = np.arange(30).reshape(-1, 10)\n",
        "\n",
        "array, array.shape"
      ],
      "metadata": {
        "colab": {
          "base_uri": "https://localhost:8080/"
        },
        "id": "JuRTeIYYNVr2",
        "outputId": "0488266e-1481-421b-8956-8286c87cb6b6"
      },
      "execution_count": 38,
      "outputs": [
        {
          "output_type": "execute_result",
          "data": {
            "text/plain": [
              "(array([[ 0,  1,  2,  3,  4,  5,  6,  7,  8,  9],\n",
              "        [10, 11, 12, 13, 14, 15, 16, 17, 18, 19],\n",
              "        [20, 21, 22, 23, 24, 25, 26, 27, 28, 29]]), (3, 10))"
            ]
          },
          "metadata": {},
          "execution_count": 38
        }
      ]
    },
    {
      "cell_type": "code",
      "source": [
        "arr1, arr2 = np.split(array, [3], axis=1)\n",
        "\n",
        "arr1, arr2"
      ],
      "metadata": {
        "colab": {
          "base_uri": "https://localhost:8080/"
        },
        "id": "j2_cnxo-OE30",
        "outputId": "fd5c054a-1f9c-4290-8e24-294715a72ab9"
      },
      "execution_count": 39,
      "outputs": [
        {
          "output_type": "execute_result",
          "data": {
            "text/plain": [
              "(array([[ 0,  1,  2],\n",
              "        [10, 11, 12],\n",
              "        [20, 21, 22]]), array([[ 3,  4,  5,  6,  7,  8,  9],\n",
              "        [13, 14, 15, 16, 17, 18, 19],\n",
              "        [23, 24, 25, 26, 27, 28, 29]]))"
            ]
          },
          "metadata": {},
          "execution_count": 39
        }
      ]
    },
    {
      "cell_type": "code",
      "source": [
        "# 차원 확장\n",
        "a = np.array([1, 2, 3, 4, 5, 6])\n",
        "\n",
        "a.shape"
      ],
      "metadata": {
        "colab": {
          "base_uri": "https://localhost:8080/"
        },
        "id": "tCaiSwiFOMtP",
        "outputId": "3e5c9684-00b4-483e-b291-f9cc9d4696b6"
      },
      "execution_count": 40,
      "outputs": [
        {
          "output_type": "execute_result",
          "data": {
            "text/plain": [
              "(6,)"
            ]
          },
          "metadata": {},
          "execution_count": 40
        }
      ]
    },
    {
      "cell_type": "code",
      "source": [
        "a1 = a[np.newaxis, :]\n",
        "\n",
        "a1, a1.shape"
      ],
      "metadata": {
        "colab": {
          "base_uri": "https://localhost:8080/"
        },
        "id": "hJYm83zFOcKM",
        "outputId": "67f70352-8deb-42ed-f722-cbbb7627c708"
      },
      "execution_count": 41,
      "outputs": [
        {
          "output_type": "execute_result",
          "data": {
            "text/plain": [
              "(array([[1, 2, 3, 4, 5, 6]]), (1, 6))"
            ]
          },
          "metadata": {},
          "execution_count": 41
        }
      ]
    },
    {
      "cell_type": "code",
      "source": [
        "a2 = a[:, np.newaxis]\n",
        "\n",
        "a2.shape"
      ],
      "metadata": {
        "colab": {
          "base_uri": "https://localhost:8080/"
        },
        "id": "k-FgTJbrOkjE",
        "outputId": "7bfc3c04-b1d9-4442-91cb-fa7c830abd16"
      },
      "execution_count": 42,
      "outputs": [
        {
          "output_type": "execute_result",
          "data": {
            "text/plain": [
              "(6, 1)"
            ]
          },
          "metadata": {},
          "execution_count": 42
        }
      ]
    },
    {
      "cell_type": "markdown",
      "source": [
        "### numpy - indexing & slicing\n"
      ],
      "metadata": {
        "id": "3AqvvlxxO1od"
      }
    },
    {
      "cell_type": "code",
      "source": [
        "# indexing & slicing\n",
        "ages = np.array([18, 19, 25, 30, 28])\n",
        "\n",
        "ages[1:3] , ages[:2]"
      ],
      "metadata": {
        "colab": {
          "base_uri": "https://localhost:8080/"
        },
        "id": "qDq8U-baOpII",
        "outputId": "2d4f007d-9880-4bd8-a496-86600c47eb87"
      },
      "execution_count": 44,
      "outputs": [
        {
          "output_type": "execute_result",
          "data": {
            "text/plain": [
              "(array([19, 25]), array([18, 19]))"
            ]
          },
          "metadata": {},
          "execution_count": 44
        }
      ]
    },
    {
      "cell_type": "code",
      "source": [
        "y = ages > 20\n",
        "\n",
        "print(y)\n",
        "# 조건을 만족하는 데이터 선택\n",
        "ages[ ages > 20 ]"
      ],
      "metadata": {
        "colab": {
          "base_uri": "https://localhost:8080/"
        },
        "id": "A34ZAGtLO_Bd",
        "outputId": "7c2f0e73-95a1-4602-88ad-3d4fe9e7f3f3"
      },
      "execution_count": 45,
      "outputs": [
        {
          "output_type": "stream",
          "name": "stdout",
          "text": [
            "[False False  True  True  True]\n"
          ]
        },
        {
          "output_type": "execute_result",
          "data": {
            "text/plain": [
              "array([25, 30, 28])"
            ]
          },
          "metadata": {},
          "execution_count": 45
        }
      ]
    },
    {
      "cell_type": "code",
      "source": [
        "# 인덱싱\n",
        "a = np.array([[1, 2, 3], [4, 5, 6], [7, 8, 9]])\n",
        "\n",
        "print(a[0, 2])\n",
        "\n",
        "a[0, 0] = 12\n",
        "\n",
        "a"
      ],
      "metadata": {
        "colab": {
          "base_uri": "https://localhost:8080/"
        },
        "id": "GzhBFX_rPP4h",
        "outputId": "0236fba2-1fb2-4c76-bae1-c56046253038"
      },
      "execution_count": 46,
      "outputs": [
        {
          "output_type": "stream",
          "name": "stdout",
          "text": [
            "3\n"
          ]
        },
        {
          "output_type": "execute_result",
          "data": {
            "text/plain": [
              "array([[12,  2,  3],\n",
              "       [ 4,  5,  6],\n",
              "       [ 7,  8,  9]])"
            ]
          },
          "metadata": {},
          "execution_count": 46
        }
      ]
    },
    {
      "cell_type": "code",
      "source": [
        "# 슬라이싱\n",
        "a = np.array([[1, 2, 3], [4, 5, 6], [7, 8, 9]])\n",
        "\n",
        "a[0:2, 1:3]"
      ],
      "metadata": {
        "colab": {
          "base_uri": "https://localhost:8080/"
        },
        "id": "eMWo_RaKPrky",
        "outputId": "5d7d3894-eb70-4d03-abfb-efe559c01cd4"
      },
      "execution_count": 47,
      "outputs": [
        {
          "output_type": "execute_result",
          "data": {
            "text/plain": [
              "array([[2, 3],\n",
              "       [5, 6]])"
            ]
          },
          "metadata": {},
          "execution_count": 47
        }
      ]
    },
    {
      "cell_type": "markdown",
      "source": [
        "### numpy 연산\n",
        "- elementwise operation\n",
        "- vectoerwise operation"
      ],
      "metadata": {
        "id": "nv3PWV7SQDBD"
      }
    },
    {
      "cell_type": "code",
      "source": [
        "# operation of arrays\n",
        "arr1 = np.array([[1, 2], [3, 4], [5, 6]])\n",
        "\n",
        "arr2 = np.array([[1, 1], [1, 1], [1, 1]])\n",
        "\n",
        "result = arr1 + arr2\n",
        "\n",
        "result"
      ],
      "metadata": {
        "colab": {
          "base_uri": "https://localhost:8080/"
        },
        "id": "dLwyDGE-P1PP",
        "outputId": "9d51833b-573a-4dcf-fdce-8e16c4b97293"
      },
      "execution_count": 48,
      "outputs": [
        {
          "output_type": "execute_result",
          "data": {
            "text/plain": [
              "array([[2, 3],\n",
              "       [4, 5],\n",
              "       [6, 7]])"
            ]
          },
          "metadata": {},
          "execution_count": 48
        }
      ]
    },
    {
      "cell_type": "markdown",
      "source": [
        "- 브로드캐스팅(broadcasting)"
      ],
      "metadata": {
        "id": "R7IZ00gyQdS8"
      }
    },
    {
      "cell_type": "code",
      "source": [
        "miles = np.array([1, 2, 3])\n",
        "\n",
        "result = miles * 1.6\n",
        "\n",
        "result"
      ],
      "metadata": {
        "colab": {
          "base_uri": "https://localhost:8080/"
        },
        "id": "PbssDgJ0QH9z",
        "outputId": "6bb5a25f-c335-4c0e-de20-5e48ccb52ca0"
      },
      "execution_count": 49,
      "outputs": [
        {
          "output_type": "execute_result",
          "data": {
            "text/plain": [
              "array([1.6, 3.2, 4.8])"
            ]
          },
          "metadata": {},
          "execution_count": 49
        }
      ]
    },
    {
      "cell_type": "code",
      "source": [
        "# elementwise multiplication\n",
        "arr1 = np.array([[1, 2], [3, 4], [5, 6]])\n",
        "\n",
        "arr2 = np.array([[2, 2], [2, 2], [2, 2]])\n",
        "\n",
        "result = arr1 * arr2\n",
        "\n",
        "result"
      ],
      "metadata": {
        "colab": {
          "base_uri": "https://localhost:8080/"
        },
        "id": "c-N2mR-IQs3g",
        "outputId": "603baa57-b236-49a1-e4da-241d72688f79"
      },
      "execution_count": 50,
      "outputs": [
        {
          "output_type": "execute_result",
          "data": {
            "text/plain": [
              "array([[ 2,  4],\n",
              "       [ 6,  8],\n",
              "       [10, 12]])"
            ]
          },
          "metadata": {},
          "execution_count": 50
        }
      ]
    },
    {
      "cell_type": "code",
      "source": [
        "# vetoerwise multiplication\n",
        "arr1 = np.array([[1, 2, 3], [4, 5, 6], [7, 8, 9]])\n",
        "\n",
        "arr2 = np.array([[2, 2], [2, 2], [2, 2]])\n",
        "\n",
        "result = arr1 @ arr2\n",
        "\n",
        "result"
      ],
      "metadata": {
        "colab": {
          "base_uri": "https://localhost:8080/"
        },
        "id": "Biy4KtCsQ2dC",
        "outputId": "dd028d2e-0827-40a7-8507-4c6c2a052de1"
      },
      "execution_count": 51,
      "outputs": [
        {
          "output_type": "execute_result",
          "data": {
            "text/plain": [
              "array([[12, 12],\n",
              "       [30, 30],\n",
              "       [48, 48]])"
            ]
          },
          "metadata": {},
          "execution_count": 51
        }
      ]
    },
    {
      "cell_type": "code",
      "source": [
        "arr1.dot(arr2)"
      ],
      "metadata": {
        "colab": {
          "base_uri": "https://localhost:8080/"
        },
        "id": "BJjBCqD9RKCz",
        "outputId": "cd6b028d-561c-49dc-b837-4f7af8660258"
      },
      "execution_count": 52,
      "outputs": [
        {
          "output_type": "execute_result",
          "data": {
            "text/plain": [
              "array([[12, 12],\n",
              "       [30, 30],\n",
              "       [48, 48]])"
            ]
          },
          "metadata": {},
          "execution_count": 52
        }
      ]
    },
    {
      "cell_type": "code",
      "source": [
        "A = np.array([0, 1, 2, 3])\n",
        "\n",
        "10 * np.sin(A)"
      ],
      "metadata": {
        "colab": {
          "base_uri": "https://localhost:8080/"
        },
        "id": "uRkNwRAIRCjf",
        "outputId": "fb059f87-f863-45bb-a3fa-03cc5edec203"
      },
      "execution_count": 53,
      "outputs": [
        {
          "output_type": "execute_result",
          "data": {
            "text/plain": [
              "array([0.        , 8.41470985, 9.09297427, 1.41120008])"
            ]
          },
          "metadata": {},
          "execution_count": 53
        }
      ]
    },
    {
      "cell_type": "code",
      "source": [
        "a = np.array([[1, 2, 3], [4, 5, 6], [7, 8, 9]])\n",
        "\n",
        "a.sum(), a.min(), a.max()"
      ],
      "metadata": {
        "colab": {
          "base_uri": "https://localhost:8080/"
        },
        "id": "Ye-SoWfpRWMh",
        "outputId": "dd02078f-e1c5-493f-e8b7-2e2531bdb4c5"
      },
      "execution_count": 54,
      "outputs": [
        {
          "output_type": "execute_result",
          "data": {
            "text/plain": [
              "(45, 1, 9)"
            ]
          },
          "metadata": {},
          "execution_count": 54
        }
      ]
    },
    {
      "cell_type": "code",
      "source": [
        "a.argmin(),a.argmax()"
      ],
      "metadata": {
        "colab": {
          "base_uri": "https://localhost:8080/"
        },
        "id": "ABCJKkmBRjpQ",
        "outputId": "32a32e63-ad14-472c-9399-d5052f33fe3e"
      },
      "execution_count": 55,
      "outputs": [
        {
          "output_type": "execute_result",
          "data": {
            "text/plain": [
              "(0, 8)"
            ]
          },
          "metadata": {},
          "execution_count": 55
        }
      ]
    },
    {
      "cell_type": "code",
      "source": [
        "scores = np.array([[99, 93, 60], [98, 82, 93],\n",
        "               [93, 65, 81], [78, 82, 81]])    \n",
        "\n",
        "scores.mean()\n",
        "\n",
        "scores.mean(axis=0)       #axis = 1 은 학생별 평균 점수,   axis = 0 은 과복별 평균 점수"
      ],
      "metadata": {
        "colab": {
          "base_uri": "https://localhost:8080/"
        },
        "id": "kPj3kCKyRbXR",
        "outputId": "c05e5ecd-a5d7-4365-f588-7ebd34c48e5a"
      },
      "execution_count": 60,
      "outputs": [
        {
          "output_type": "execute_result",
          "data": {
            "text/plain": [
              "array([92.  , 80.5 , 78.75])"
            ]
          },
          "metadata": {},
          "execution_count": 60
        }
      ]
    },
    {
      "cell_type": "markdown",
      "source": [
        "## random number arrangement"
      ],
      "metadata": {
        "id": "dVVufCkYSuRa"
      }
    },
    {
      "cell_type": "code",
      "source": [
        "# random numbers\n",
        "np.random.seed(100)\n",
        "\n",
        "#np.random.rand(5),np.random.rand(5)\n",
        "\n",
        "#np.random.rand(5, 3)\n",
        "\n",
        "#np.random.randn(5)\n",
        "\n",
        "np.random.randn(5, 4)"
      ],
      "metadata": {
        "colab": {
          "base_uri": "https://localhost:8080/"
        },
        "id": "gihUH2HOSEc6",
        "outputId": "5043dd06-0f4b-47dc-f65d-1b5557b83a44"
      },
      "execution_count": 69,
      "outputs": [
        {
          "output_type": "execute_result",
          "data": {
            "text/plain": [
              "array([[-1.74976547,  0.3426804 ,  1.1530358 , -0.25243604],\n",
              "       [ 0.98132079,  0.51421884,  0.22117967, -1.07004333],\n",
              "       [-0.18949583,  0.25500144, -0.45802699,  0.43516349],\n",
              "       [-0.58359505,  0.81684707,  0.67272081, -0.10441114],\n",
              "       [-0.53128038,  1.02973269, -0.43813562, -1.11831825]])"
            ]
          },
          "metadata": {},
          "execution_count": 69
        }
      ]
    },
    {
      "cell_type": "markdown",
      "source": [
        "### [DIY]\n",
        "- 컬러 이미지 100장을 무작위로 생성\n",
        "- 이미지 크기는 28 x 28로 한다"
      ],
      "metadata": {
        "id": "fHO6OnGUTYpU"
      }
    },
    {
      "cell_type": "code",
      "source": [
        "image100 = np.random.randn(100, 28, 28, 3)\n",
        "image100.shape          #배치데이터"
      ],
      "metadata": {
        "colab": {
          "base_uri": "https://localhost:8080/"
        },
        "id": "9H6eeZO1TzG_",
        "outputId": "c76b8abb-a6a4-487a-9d51-3947893eb187"
      },
      "execution_count": 71,
      "outputs": [
        {
          "output_type": "execute_result",
          "data": {
            "text/plain": [
              "(100, 28, 28, 3)"
            ]
          },
          "metadata": {},
          "execution_count": 71
        }
      ]
    },
    {
      "cell_type": "code",
      "source": [
        "m, sigma = 10, 2\n",
        "\n",
        "m + sigma*np.random.randn(5)"
      ],
      "metadata": {
        "colab": {
          "base_uri": "https://localhost:8080/"
        },
        "id": "bhCWpUTxS6z6",
        "outputId": "3952b177-d619-4481-ff6b-630fbdfeca61"
      },
      "execution_count": 73,
      "outputs": [
        {
          "output_type": "execute_result",
          "data": {
            "text/plain": [
              "array([10.25522296,  6.07091488,  9.02273596,  9.20755144,  6.37689109])"
            ]
          },
          "metadata": {},
          "execution_count": 73
        }
      ]
    },
    {
      "cell_type": "code",
      "source": [
        "mu, sigma = 10, 2 \t# 평균과 표준 편차\n",
        "\n",
        "np.random.normal(mu, sigma, 5)"
      ],
      "metadata": {
        "colab": {
          "base_uri": "https://localhost:8080/"
        },
        "id": "AEHC8smKU9Xs",
        "outputId": "ff85592a-7c47-45e7-c378-7621f85ddb6a"
      },
      "execution_count": 77,
      "outputs": [
        {
          "output_type": "execute_result",
          "data": {
            "text/plain": [
              "array([ 6.43310127, 12.40068836,  9.75862108, 11.49582746, 11.30685206])"
            ]
          },
          "metadata": {},
          "execution_count": 77
        }
      ]
    },
    {
      "cell_type": "markdown",
      "source": [
        "## np.unique()"
      ],
      "metadata": {
        "id": "yOfYu70UVOBS"
      }
    },
    {
      "cell_type": "code",
      "source": [
        "# unique()\n",
        "a = np.array([11, 11, 12, 13, 14, 15, 16, 17, 12, 13, 11, 14, 18, 19, 20])\n",
        "# a.size\n",
        "unique_values = np.unique(a)\n",
        "unique_values"
      ],
      "metadata": {
        "colab": {
          "base_uri": "https://localhost:8080/"
        },
        "id": "XTLXm0GPU26c",
        "outputId": "36b9f5a3-f4e4-4d83-8af3-c5146e32c4c7"
      },
      "execution_count": 82,
      "outputs": [
        {
          "output_type": "execute_result",
          "data": {
            "text/plain": [
              "array([11, 12, 13, 14, 15, 16, 17, 18, 19, 20])"
            ]
          },
          "metadata": {},
          "execution_count": 82
        }
      ]
    },
    {
      "cell_type": "code",
      "source": [
        "uv, ui = np.unique(a, return_index = True)\n",
        "uv, ui"
      ],
      "metadata": {
        "colab": {
          "base_uri": "https://localhost:8080/"
        },
        "id": "ItCEQm5KVjO_",
        "outputId": "e9373358-2bdb-4d33-fd72-ac12da28aa8a"
      },
      "execution_count": 84,
      "outputs": [
        {
          "output_type": "execute_result",
          "data": {
            "text/plain": [
              "(array([11, 12, 13, 14, 15, 16, 17, 18, 19, 20]),\n",
              " array([ 0,  2,  3,  4,  5,  6,  7, 12, 13, 14]))"
            ]
          },
          "metadata": {},
          "execution_count": 84
        }
      ]
    },
    {
      "cell_type": "code",
      "source": [
        "uv, uc = np.unique(a, return_counts = True)\n",
        "uv, uc"
      ],
      "metadata": {
        "colab": {
          "base_uri": "https://localhost:8080/"
        },
        "id": "SEgJC3d5WDFS",
        "outputId": "469c136b-feb9-432e-a053-49506e335237"
      },
      "execution_count": 86,
      "outputs": [
        {
          "output_type": "execute_result",
          "data": {
            "text/plain": [
              "(array([11, 12, 13, 14, 15, 16, 17, 18, 19, 20]),\n",
              " array([3, 2, 2, 2, 1, 1, 1, 1, 1, 1]))"
            ]
          },
          "metadata": {},
          "execution_count": 86
        }
      ]
    },
    {
      "cell_type": "code",
      "source": [
        "# Transpose of an array\n",
        "arr = np.array([[1, 2], [3, 4], [5, 6]])\n",
        "print(arr.T)\n",
        "\n",
        "x = np.array([[1, 2, 3, 4], [5, 6, 7, 8], [9, 10, 11, 12]])\n",
        "\n",
        "\n",
        "x.flatten()"
      ],
      "metadata": {
        "colab": {
          "base_uri": "https://localhost:8080/"
        },
        "id": "sqLZ_U89VHpa",
        "outputId": "1b131857-09a9-4598-a582-7b910a7cb196"
      },
      "execution_count": 79,
      "outputs": [
        {
          "output_type": "stream",
          "name": "stdout",
          "text": [
            "[[1 3 5]\n",
            " [2 4 6]]\n"
          ]
        },
        {
          "output_type": "execute_result",
          "data": {
            "text/plain": [
              "array([ 1,  2,  3,  4,  5,  6,  7,  8,  9, 10, 11, 12])"
            ]
          },
          "metadata": {},
          "execution_count": 79
        }
      ]
    },
    {
      "cell_type": "markdown",
      "source": [
        "## pandas. matplotlib"
      ],
      "metadata": {
        "id": "-V1xCoDmUlzW"
      }
    },
    {
      "cell_type": "code",
      "source": [
        "########################\n",
        "# Pandas\n",
        "import numpy as np\n",
        "import pandas as pd\n",
        "\n",
        "x = pd.read_csv('countries.csv', header=0).values\n",
        "print(x)\n",
        "\n",
        "########################\n",
        "# matplotlib\n",
        "import matplotlib.pyplot as plt\n",
        "# %matplotlib inline\n",
        "\n",
        "X = [ \"Mon\", \"Tue\", \"Wed\", \"Thur\", \"Fri\",  \"Sat\", \"Sun\" ] \n",
        "Y1 = [15.6, 14.2, 16.3, 18.2, 17.1, 20.2, 22.4]\n",
        "Y2 = [20.1, 23.1, 23.8, 25.9, 23.4, 25.1, 26.3]\n",
        "\n",
        "plt.plot(X, Y1, label=\"Seoul\")\t\t# 분리시켜서 그려도 됨\n",
        "plt.plot(X, Y2, label=\"Busan\")\t\t# 분리시켜서 그려도 됨\n",
        "plt.xlabel(\"day\")\n",
        "plt.ylabel(\"temperature\")\n",
        "plt.legend(loc=\"upper left\")\n",
        "plt.title(\"Temperatures of Cities\")\n",
        "plt.show()\n",
        "\n",
        "\n",
        "import matplotlib.pyplot as plt\n",
        "# %matplotlib inline\n",
        "\n",
        "X = [ \"Mon\", \"Tue\", \"Wed\", \"Thur\", \"Fri\",  \"Sat\", \"Sun\" ] \n",
        "plt.plot(X, [15.6, 14.2, 16.3, 18.2, 17.1, 20.2, 22.4], \"sm\")\n",
        "plt.show()\n",
        "\n",
        "\n",
        "import matplotlib.pyplot as plt\n",
        "# %matplotlib inline\n",
        "\n",
        "X = [ \"Mon\", \"Tue\", \"Wed\", \"Thur\", \"Fri\",  \"Sat\", \"Sun\" ] \n",
        "Y = [15.6, 14.2, 16.3, 18.2, 17.1, 20.2, 22.4]\n",
        "plt.bar(X, Y)\n",
        "plt.show()\n",
        "\n",
        "\n",
        "\n",
        "import matplotlib.pyplot as plt\n",
        "import numpy as np\n",
        "\n",
        "numbers = np.random.normal(size=10000)\n",
        "\n",
        "plt.hist(numbers)\n",
        "plt.xlabel(\"value\")\n",
        "plt.ylabel(\"freq\")\n",
        "plt.show()\n",
        "\n",
        "\n",
        "import matplotlib.pyplot as plt\n",
        "import numpy as np\n",
        "X = np.arange(0, 10)\n",
        "Y = X**2\n",
        "plt.plot(X, Y)\n",
        "plt.show()\n",
        "\n",
        "\n",
        "X = np.arange(0, 10)\n",
        "Y1 = np.ones(10)\n",
        "Y2 = X \n",
        "Y3 = X**2 \n",
        "plt.plot(X, Y1, X, Y2, X, Y3)\n",
        "plt.show()\n",
        "\n",
        "\n",
        "import matplotlib.pyplot as plt \n",
        "import numpy as np \n",
        "  \n",
        "X = np.linspace(-10, 10, 101) \n",
        "Y = 1/(1 + np.exp(-X)) \n",
        "  \n",
        "plt.plot(X, Y) \n",
        "plt.xlabel(\"x\") \n",
        "plt.ylabel(\"Sigmoid(X)\") \n",
        "plt.show() \n",
        "\n",
        "\n",
        "import matplotlib.pyplot as plt\n",
        "import numpy as np\n",
        "\n",
        "def sigmoid(x):\n",
        "    s=1/(1+np.exp(-x))\n",
        "    ds=s*(1-s)  \t\t# 시그모이드 함수 1차 미분 함수\n",
        "    return s,ds\n",
        "\n",
        "X = np.linspace(-10, 10, 101) \n",
        "Y1, Y2 = sigmoid(X)\n",
        "  \n",
        "plt.plot(X, Y1, X, Y2) \n",
        "plt.xlabel(\"x\") \n",
        "plt.ylabel(\"Sigmoid(X), Sigmoid'(X)\") \n",
        "plt.show() \n",
        "\n",
        "\n",
        "\n",
        "\n",
        "\n"
      ],
      "metadata": {
        "id": "14d5eHreUi-I"
      },
      "execution_count": null,
      "outputs": []
    }
  ]
}