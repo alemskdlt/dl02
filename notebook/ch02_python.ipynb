{
  "nbformat": 4,
  "nbformat_minor": 0,
  "metadata": {
    "colab": {
      "provenance": [],
      "authorship_tag": "ABX9TyPUjlNdRFqtm/mk/9vilDaB",
      "include_colab_link": true
    },
    "kernelspec": {
      "name": "python3",
      "display_name": "Python 3"
    },
    "language_info": {
      "name": "python"
    }
  },
  "cells": [
    {
      "cell_type": "markdown",
      "metadata": {
        "id": "view-in-github",
        "colab_type": "text"
      },
      "source": [
        "<a href=\"https://colab.research.google.com/github/alemskdlt/dl02/blob/main/notebook/ch02_python.ipynb\" target=\"_parent\"><img src=\"https://colab.research.google.com/assets/colab-badge.svg\" alt=\"Open In Colab\"/></a>"
      ]
    },
    {
      "cell_type": "markdown",
      "source": [
        "# ch02_python.ipynb\n",
        "## dl02\n",
        "-파이썬 복습"
      ],
      "metadata": {
        "id": "xp_URQfs-6x0"
      }
    },
    {
      "cell_type": "code",
      "execution_count": null,
      "metadata": {
        "id": "ADYgv3AB-1N3"
      },
      "outputs": [],
      "source": [
        "# cap02 - python basics\n",
        "#\n",
        "3.14 * 10 * 10 \n",
        "\n",
        "3.14 * 10**2"
      ]
    },
    {
      "cell_type": "code",
      "source": [
        "type(10)\n",
        "\n",
        "type(3.14)\n",
        "\n",
        "type(\"python\")"
      ],
      "metadata": {
        "id": "BAwehbuH_QyG"
      },
      "execution_count": null,
      "outputs": []
    },
    {
      "cell_type": "code",
      "source": [
        "r = 20\n",
        "\n",
        "PI = 3.14\t\t# 원주율 정의\n",
        "\n",
        "area = PI * r**2\n",
        "\n",
        "area"
      ],
      "metadata": {
        "id": "MbXyGl0M_Tqx"
      },
      "execution_count": null,
      "outputs": []
    },
    {
      "cell_type": "code",
      "source": [
        "# list\n",
        "lst = [ 10, 20, 30, 40, 50]\t\t# 리스트 정의\n",
        "\n",
        "lst"
      ],
      "metadata": {
        "id": "s7QRArum_V3q"
      },
      "execution_count": null,
      "outputs": []
    },
    {
      "cell_type": "code",
      "source": [
        "# indexing & slicing\n",
        "print(lst[2]) \t\t\t\t# 리스트의 요소 접근\n",
        "\n",
        "lst[2] = 90\t\t\t# 세 번째 요소를 90으로 변경\n",
        "\n",
        "ptint(lst)\n",
        "\n",
        "print(len(lst))\n",
        "\n",
        "lst[0:3]\n",
        "\n",
        "lst[2:]\t\n",
        "\n",
        "lst[:3]\n",
        "\n",
        "lst[:-1]\n",
        "\n",
        "lst.len(lst)"
      ],
      "metadata": {
        "id": "qN1zMzp__X_p"
      },
      "execution_count": null,
      "outputs": []
    },
    {
      "cell_type": "code",
      "source": [
        "# dictionary\n",
        "car = { 'HP':200, 'make': \"BNW\" }\t# 딕셔너리 정의\n",
        "\n",
        "car['HP']\n",
        "\n",
        "car['color'] = \"white\"\n",
        "\n",
        "car"
      ],
      "metadata": {
        "id": "iIRP-iUd_dqY"
      },
      "execution_count": null,
      "outputs": []
    },
    {
      "cell_type": "code",
      "source": [
        "car['color'] = \"white\"\n",
        "car"
      ],
      "metadata": {
        "id": "nDIMpKKZ_eyZ"
      },
      "execution_count": null,
      "outputs": []
    },
    {
      "cell_type": "code",
      "source": [
        "# Conditional\n",
        "temp = -10\n",
        "\n",
        "if temp < 0 :\n",
        "    print(\"영하입니다.\")\t\n",
        "else:\n",
        "    print(\"영상입니다.\")"
      ],
      "metadata": {
        "id": "nz5Zsji8_hLU"
      },
      "execution_count": null,
      "outputs": []
    },
    {
      "cell_type": "code",
      "source": [
        "# loop\n",
        "for i in [1, 2, 3, 4, 5] :\n",
        "    print(i, end=\" \")"
      ],
      "metadata": {
        "id": "aeHLt0T7_jVs"
      },
      "execution_count": null,
      "outputs": []
    },
    {
      "cell_type": "code",
      "source": [
        "# functio\n",
        "def sayHello():\n",
        "    print(\"Hello!\")\n",
        "\n",
        "sayHello()"
      ],
      "metadata": {
        "id": "EPqnfHry_lW0"
      },
      "execution_count": null,
      "outputs": []
    },
    {
      "cell_type": "code",
      "source": [
        "# class\n",
        "class Person:\n",
        "  def __init__(self, name, age):\n",
        "    self.name = name\n",
        "    self.age = age\n",
        "\n",
        "  def sayHello(self):\n",
        "    print(\"Hello 나의 이름은 \" + self.name + \"나이는 \" + str(self.age))\n",
        "\n",
        "p1 = Person(\"John\", 36)\n",
        "p1.sayHello()\n",
        "\n",
        "# [DIY] 이름과 나이를 다 출력하게 코드를 변경하시오.\n",
        "#################################################"
      ],
      "metadata": {
        "id": "fpYzGpcd_nI0"
      },
      "execution_count": null,
      "outputs": []
    }
  ]
}